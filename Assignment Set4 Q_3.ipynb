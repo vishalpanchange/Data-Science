{
 "cells": [
  {
   "cell_type": "code",
   "execution_count": 1,
   "id": "03f70cef",
   "metadata": {},
   "outputs": [],
   "source": [
    "import pandas as pd\n",
    "import numpy as np\n",
    "from scipy import stats\n",
    "from scipy.stats import norm"
   ]
  },
  {
   "cell_type": "markdown",
   "id": "57fc1078",
   "metadata": {},
   "source": [
    "### n=100, Pop Mean=50, Pop SD=40 As no. of samples is more than 30, we can consider it normal distribution"
   ]
  },
  {
   "cell_type": "code",
   "execution_count": 2,
   "id": "105b01af",
   "metadata": {},
   "outputs": [],
   "source": [
    "# For No investigation P(45<X<55)\n",
    "# For Investigation 1-P(45<X<55)"
   ]
  },
  {
   "cell_type": "code",
   "execution_count": 3,
   "id": "3906453e",
   "metadata": {},
   "outputs": [
    {
     "data": {
      "text/plain": [
       "-1.25"
      ]
     },
     "execution_count": 3,
     "metadata": {},
     "output_type": "execute_result"
    }
   ],
   "source": [
    "# find z-scores at x=45; z=(s_mean-P_mean)/(p_SD/sqrt(n))\n",
    "z=(45-50)/(40/100**0.5)\n",
    "z"
   ]
  },
  {
   "cell_type": "code",
   "execution_count": 4,
   "id": "302d9be9",
   "metadata": {},
   "outputs": [
    {
     "data": {
      "text/plain": [
       "1.25"
      ]
     },
     "execution_count": 4,
     "metadata": {},
     "output_type": "execute_result"
    }
   ],
   "source": [
    "z1 = (55-50)/(40/100**0.5)\n",
    "z1"
   ]
  },
  {
   "cell_type": "code",
   "execution_count": 5,
   "id": "9104c167",
   "metadata": {},
   "outputs": [
    {
     "data": {
      "text/plain": [
       "0.7887004526662893"
      ]
     },
     "execution_count": 5,
     "metadata": {},
     "output_type": "execute_result"
    }
   ],
   "source": [
    "# For No investigation P(45<X<55) using z_scores = P(X<50)-P(X<45)\n",
    "stats.norm.cdf(1.25)-stats.norm.cdf(-1.25)"
   ]
  },
  {
   "cell_type": "code",
   "execution_count": 6,
   "id": "fd57eec9",
   "metadata": {},
   "outputs": [
    {
     "data": {
      "text/plain": [
       "(45.00000495667348, 54.99999504332652)"
      ]
     },
     "execution_count": 6,
     "metadata": {},
     "output_type": "execute_result"
    }
   ],
   "source": [
    "\n",
    "stats.norm.interval(0.7887,loc=50,scale=40/(100**0.5))"
   ]
  },
  {
   "cell_type": "code",
   "execution_count": 7,
   "id": "f901c30e",
   "metadata": {},
   "outputs": [
    {
     "data": {
      "text/plain": [
       "0.21130000000000004"
      ]
     },
     "execution_count": 7,
     "metadata": {},
     "output_type": "execute_result"
    }
   ],
   "source": [
    "# For Investigation 1-P(45<X<55)\n",
    "1-0.7887"
   ]
  },
  {
   "cell_type": "code",
   "execution_count": null,
   "id": "451faed5",
   "metadata": {},
   "outputs": [],
   "source": []
  }
 ],
 "metadata": {
  "kernelspec": {
   "display_name": "Python 3 (ipykernel)",
   "language": "python",
   "name": "python3"
  },
  "language_info": {
   "codemirror_mode": {
    "name": "ipython",
    "version": 3
   },
   "file_extension": ".py",
   "mimetype": "text/x-python",
   "name": "python",
   "nbconvert_exporter": "python",
   "pygments_lexer": "ipython3",
   "version": "3.9.13"
  }
 },
 "nbformat": 4,
 "nbformat_minor": 5
}
