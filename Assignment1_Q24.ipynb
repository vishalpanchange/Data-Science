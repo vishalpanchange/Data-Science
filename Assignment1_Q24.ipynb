{
 "cells": [
  {
   "cell_type": "code",
   "execution_count": 6,
   "id": "9d59d867",
   "metadata": {},
   "outputs": [],
   "source": [
    "from scipy import stats\n",
    "from scipy.stats import norm\n",
    "import numpy as np"
   ]
  },
  {
   "cell_type": "markdown",
   "id": "743a4a47",
   "metadata": {},
   "source": [
    "### H0 : Avg life of Bulb >=260\n",
    "### Ha : Avg life of Bulb <260"
   ]
  },
  {
   "cell_type": "markdown",
   "id": "a97d63c2",
   "metadata": {},
   "source": [
    "### find t-scores at x=260; t=(s_mean-P_mean)/(s_SD/sqrt(n))"
   ]
  },
  {
   "cell_type": "code",
   "execution_count": 10,
   "id": "8afd410b",
   "metadata": {},
   "outputs": [
    {
     "data": {
      "text/plain": [
       "-0.4714"
      ]
     },
     "execution_count": 10,
     "metadata": {},
     "output_type": "execute_result"
    }
   ],
   "source": [
    " t_value = ((260-270)/(90)*np.sqrt(18))\n",
    "round(t_value,4)"
   ]
  },
  {
   "cell_type": "markdown",
   "id": "21e33b8e",
   "metadata": {},
   "source": [
    "\n",
    "### p_value=1-stats.t.cdf(abs(t_scores),df=n-1)... Using cdf function"
   ]
  },
  {
   "cell_type": "code",
   "execution_count": 12,
   "id": "5b272c69",
   "metadata": {},
   "outputs": [
    {
     "data": {
      "text/plain": [
       "0.32167411684460556"
      ]
     },
     "execution_count": 12,
     "metadata": {},
     "output_type": "execute_result"
    }
   ],
   "source": [
    "p_value = stats.t.cdf(-0.4714,df=17)\n",
    "p_value"
   ]
  },
  {
   "cell_type": "markdown",
   "id": "bc686206",
   "metadata": {},
   "source": [
    "### P value is greater than alpha(0.05) which mean we fail to reject null hypothesis"
   ]
  },
  {
   "cell_type": "code",
   "execution_count": null,
   "id": "26f6caca",
   "metadata": {},
   "outputs": [],
   "source": []
  }
 ],
 "metadata": {
  "kernelspec": {
   "display_name": "Python 3 (ipykernel)",
   "language": "python",
   "name": "python3"
  },
  "language_info": {
   "codemirror_mode": {
    "name": "ipython",
    "version": 3
   },
   "file_extension": ".py",
   "mimetype": "text/x-python",
   "name": "python",
   "nbconvert_exporter": "python",
   "pygments_lexer": "ipython3",
   "version": "3.9.13"
  }
 },
 "nbformat": 4,
 "nbformat_minor": 5
}
