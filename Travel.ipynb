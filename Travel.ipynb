{
 "cells": [
  {
   "cell_type": "markdown",
   "id": "dc1edbf8",
   "metadata": {},
   "source": [
    "# Holiday_Package_Prediction"
   ]
  },
  {
   "cell_type": "markdown",
   "id": "2502edc2",
   "metadata": {},
   "source": [
    "\"Trips & Travel.Com\" company wants to enable and establish a viable business model to expand the customer base. One of the ways to expand the customer base is to introduce a new offering of packages. Currently, there are 5 types of packages the company is offering - Basic, Standard, Deluxe, Super Deluxe, King. Looking at the data of the last year, we observed that 18% of the customers purchased the packages. However, the marketing cost was quite high because customers were contacted at random without looking at the available information. The company is now planning to launch a new product i.e. Wellness Tourism Package. Wellness Tourism is defined as Travel that allows the traveler to maintain, enhance or kick-start a healthy lifestyle, and support or increase one's sense of well-being. However, this time company wants to harness the available data of existing and potential customers to make the marketing expenditure more efficient."
   ]
  },
  {
   "cell_type": "code",
   "execution_count": 1,
   "id": "9db8b90f",
   "metadata": {},
   "outputs": [],
   "source": [
    "import pandas as pd \n",
    "import numpy as np \n",
    "import matplotlib.pyplot as plt\n",
    "import seaborn as sns\n",
    "%matplotlib inline"
   ]
  },
  {
   "cell_type": "code",
   "execution_count": 2,
   "id": "ade628d5",
   "metadata": {},
   "outputs": [
    {
     "data": {
      "text/html": [
       "<div>\n",
       "<style scoped>\n",
       "    .dataframe tbody tr th:only-of-type {\n",
       "        vertical-align: middle;\n",
       "    }\n",
       "\n",
       "    .dataframe tbody tr th {\n",
       "        vertical-align: top;\n",
       "    }\n",
       "\n",
       "    .dataframe thead th {\n",
       "        text-align: right;\n",
       "    }\n",
       "</style>\n",
       "<table border=\"1\" class=\"dataframe\">\n",
       "  <thead>\n",
       "    <tr style=\"text-align: right;\">\n",
       "      <th></th>\n",
       "      <th>CustomerID</th>\n",
       "      <th>ProdTaken</th>\n",
       "      <th>Age</th>\n",
       "      <th>TypeofContact</th>\n",
       "      <th>CityTier</th>\n",
       "      <th>DurationOfPitch</th>\n",
       "      <th>Occupation</th>\n",
       "      <th>Gender</th>\n",
       "      <th>NumberOfPersonVisiting</th>\n",
       "      <th>NumberOfFollowups</th>\n",
       "      <th>ProductPitched</th>\n",
       "      <th>PreferredPropertyStar</th>\n",
       "      <th>MaritalStatus</th>\n",
       "      <th>NumberOfTrips</th>\n",
       "      <th>Passport</th>\n",
       "      <th>PitchSatisfactionScore</th>\n",
       "      <th>OwnCar</th>\n",
       "      <th>NumberOfChildrenVisiting</th>\n",
       "      <th>Designation</th>\n",
       "      <th>MonthlyIncome</th>\n",
       "    </tr>\n",
       "  </thead>\n",
       "  <tbody>\n",
       "    <tr>\n",
       "      <th>0</th>\n",
       "      <td>200000</td>\n",
       "      <td>1</td>\n",
       "      <td>41.0</td>\n",
       "      <td>Self Enquiry</td>\n",
       "      <td>3</td>\n",
       "      <td>6.0</td>\n",
       "      <td>Salaried</td>\n",
       "      <td>Female</td>\n",
       "      <td>3</td>\n",
       "      <td>3.0</td>\n",
       "      <td>Deluxe</td>\n",
       "      <td>3.0</td>\n",
       "      <td>Single</td>\n",
       "      <td>1.0</td>\n",
       "      <td>1</td>\n",
       "      <td>2</td>\n",
       "      <td>1</td>\n",
       "      <td>0.0</td>\n",
       "      <td>Manager</td>\n",
       "      <td>20993.0</td>\n",
       "    </tr>\n",
       "    <tr>\n",
       "      <th>1</th>\n",
       "      <td>200001</td>\n",
       "      <td>0</td>\n",
       "      <td>49.0</td>\n",
       "      <td>Company Invited</td>\n",
       "      <td>1</td>\n",
       "      <td>14.0</td>\n",
       "      <td>Salaried</td>\n",
       "      <td>Male</td>\n",
       "      <td>3</td>\n",
       "      <td>4.0</td>\n",
       "      <td>Deluxe</td>\n",
       "      <td>4.0</td>\n",
       "      <td>Divorced</td>\n",
       "      <td>2.0</td>\n",
       "      <td>0</td>\n",
       "      <td>3</td>\n",
       "      <td>1</td>\n",
       "      <td>2.0</td>\n",
       "      <td>Manager</td>\n",
       "      <td>20130.0</td>\n",
       "    </tr>\n",
       "    <tr>\n",
       "      <th>2</th>\n",
       "      <td>200002</td>\n",
       "      <td>1</td>\n",
       "      <td>37.0</td>\n",
       "      <td>Self Enquiry</td>\n",
       "      <td>1</td>\n",
       "      <td>8.0</td>\n",
       "      <td>Free Lancer</td>\n",
       "      <td>Male</td>\n",
       "      <td>3</td>\n",
       "      <td>4.0</td>\n",
       "      <td>Basic</td>\n",
       "      <td>3.0</td>\n",
       "      <td>Single</td>\n",
       "      <td>7.0</td>\n",
       "      <td>1</td>\n",
       "      <td>3</td>\n",
       "      <td>0</td>\n",
       "      <td>0.0</td>\n",
       "      <td>Executive</td>\n",
       "      <td>17090.0</td>\n",
       "    </tr>\n",
       "    <tr>\n",
       "      <th>3</th>\n",
       "      <td>200003</td>\n",
       "      <td>0</td>\n",
       "      <td>33.0</td>\n",
       "      <td>Company Invited</td>\n",
       "      <td>1</td>\n",
       "      <td>9.0</td>\n",
       "      <td>Salaried</td>\n",
       "      <td>Female</td>\n",
       "      <td>2</td>\n",
       "      <td>3.0</td>\n",
       "      <td>Basic</td>\n",
       "      <td>3.0</td>\n",
       "      <td>Divorced</td>\n",
       "      <td>2.0</td>\n",
       "      <td>1</td>\n",
       "      <td>5</td>\n",
       "      <td>1</td>\n",
       "      <td>1.0</td>\n",
       "      <td>Executive</td>\n",
       "      <td>17909.0</td>\n",
       "    </tr>\n",
       "    <tr>\n",
       "      <th>4</th>\n",
       "      <td>200004</td>\n",
       "      <td>0</td>\n",
       "      <td>NaN</td>\n",
       "      <td>Self Enquiry</td>\n",
       "      <td>1</td>\n",
       "      <td>8.0</td>\n",
       "      <td>Small Business</td>\n",
       "      <td>Male</td>\n",
       "      <td>2</td>\n",
       "      <td>3.0</td>\n",
       "      <td>Basic</td>\n",
       "      <td>4.0</td>\n",
       "      <td>Divorced</td>\n",
       "      <td>1.0</td>\n",
       "      <td>0</td>\n",
       "      <td>5</td>\n",
       "      <td>1</td>\n",
       "      <td>0.0</td>\n",
       "      <td>Executive</td>\n",
       "      <td>18468.0</td>\n",
       "    </tr>\n",
       "  </tbody>\n",
       "</table>\n",
       "</div>"
      ],
      "text/plain": [
       "   CustomerID  ProdTaken   Age    TypeofContact  CityTier  DurationOfPitch  \\\n",
       "0      200000          1  41.0     Self Enquiry         3              6.0   \n",
       "1      200001          0  49.0  Company Invited         1             14.0   \n",
       "2      200002          1  37.0     Self Enquiry         1              8.0   \n",
       "3      200003          0  33.0  Company Invited         1              9.0   \n",
       "4      200004          0   NaN     Self Enquiry         1              8.0   \n",
       "\n",
       "       Occupation  Gender  NumberOfPersonVisiting  NumberOfFollowups  \\\n",
       "0        Salaried  Female                       3                3.0   \n",
       "1        Salaried    Male                       3                4.0   \n",
       "2     Free Lancer    Male                       3                4.0   \n",
       "3        Salaried  Female                       2                3.0   \n",
       "4  Small Business    Male                       2                3.0   \n",
       "\n",
       "  ProductPitched  PreferredPropertyStar MaritalStatus  NumberOfTrips  \\\n",
       "0         Deluxe                    3.0        Single            1.0   \n",
       "1         Deluxe                    4.0      Divorced            2.0   \n",
       "2          Basic                    3.0        Single            7.0   \n",
       "3          Basic                    3.0      Divorced            2.0   \n",
       "4          Basic                    4.0      Divorced            1.0   \n",
       "\n",
       "   Passport  PitchSatisfactionScore  OwnCar  NumberOfChildrenVisiting  \\\n",
       "0         1                       2       1                       0.0   \n",
       "1         0                       3       1                       2.0   \n",
       "2         1                       3       0                       0.0   \n",
       "3         1                       5       1                       1.0   \n",
       "4         0                       5       1                       0.0   \n",
       "\n",
       "  Designation  MonthlyIncome  \n",
       "0     Manager        20993.0  \n",
       "1     Manager        20130.0  \n",
       "2   Executive        17090.0  \n",
       "3   Executive        17909.0  \n",
       "4   Executive        18468.0  "
      ]
     },
     "execution_count": 2,
     "metadata": {},
     "output_type": "execute_result"
    }
   ],
   "source": [
    "df = pd.read_csv(r\"C:\\Users\\VISHAL S PANCHANGE\\Desktop\\ASSIGNMENT\\Travel.csv\")\n",
    "df.head()"
   ]
  },
  {
   "cell_type": "code",
   "execution_count": 3,
   "id": "07ed7422",
   "metadata": {},
   "outputs": [
    {
     "name": "stdout",
     "output_type": "stream",
     "text": [
      "<class 'pandas.core.frame.DataFrame'>\n",
      "RangeIndex: 4888 entries, 0 to 4887\n",
      "Data columns (total 20 columns):\n",
      " #   Column                    Non-Null Count  Dtype  \n",
      "---  ------                    --------------  -----  \n",
      " 0   CustomerID                4888 non-null   int64  \n",
      " 1   ProdTaken                 4888 non-null   int64  \n",
      " 2   Age                       4662 non-null   float64\n",
      " 3   TypeofContact             4863 non-null   object \n",
      " 4   CityTier                  4888 non-null   int64  \n",
      " 5   DurationOfPitch           4637 non-null   float64\n",
      " 6   Occupation                4888 non-null   object \n",
      " 7   Gender                    4888 non-null   object \n",
      " 8   NumberOfPersonVisiting    4888 non-null   int64  \n",
      " 9   NumberOfFollowups         4843 non-null   float64\n",
      " 10  ProductPitched            4888 non-null   object \n",
      " 11  PreferredPropertyStar     4862 non-null   float64\n",
      " 12  MaritalStatus             4888 non-null   object \n",
      " 13  NumberOfTrips             4748 non-null   float64\n",
      " 14  Passport                  4888 non-null   int64  \n",
      " 15  PitchSatisfactionScore    4888 non-null   int64  \n",
      " 16  OwnCar                    4888 non-null   int64  \n",
      " 17  NumberOfChildrenVisiting  4822 non-null   float64\n",
      " 18  Designation               4888 non-null   object \n",
      " 19  MonthlyIncome             4655 non-null   float64\n",
      "dtypes: float64(7), int64(7), object(6)\n",
      "memory usage: 763.9+ KB\n"
     ]
    }
   ],
   "source": [
    "df.info()"
   ]
  },
  {
   "cell_type": "code",
   "execution_count": 4,
   "id": "4c071dc9",
   "metadata": {},
   "outputs": [
    {
     "data": {
      "text/plain": [
       "Index(['TypeofContact', 'Occupation', 'Gender', 'ProductPitched',\n",
       "       'MaritalStatus', 'Designation'],\n",
       "      dtype='object')"
      ]
     },
     "execution_count": 4,
     "metadata": {},
     "output_type": "execute_result"
    }
   ],
   "source": [
    "obj_feature = df.columns[df.dtypes =='object']\n",
    "obj_feature"
   ]
  },
  {
   "cell_type": "code",
   "execution_count": 5,
   "id": "a3fc68a7",
   "metadata": {},
   "outputs": [
    {
     "data": {
      "text/plain": [
       "Index(['CustomerID', 'ProdTaken', 'Age', 'CityTier', 'DurationOfPitch',\n",
       "       'NumberOfPersonVisiting', 'NumberOfFollowups', 'PreferredPropertyStar',\n",
       "       'NumberOfTrips', 'Passport', 'PitchSatisfactionScore', 'OwnCar',\n",
       "       'NumberOfChildrenVisiting', 'MonthlyIncome'],\n",
       "      dtype='object')"
      ]
     },
     "execution_count": 5,
     "metadata": {},
     "output_type": "execute_result"
    }
   ],
   "source": [
    "num_features = df.columns[df.dtypes!='object']\n",
    "num_features"
   ]
  },
  {
   "cell_type": "code",
   "execution_count": 6,
   "id": "e2308d3e",
   "metadata": {},
   "outputs": [
    {
     "name": "stdout",
     "output_type": "stream",
     "text": [
      "Self Enquiry       3444\n",
      "Company Invited    1419\n",
      "Name: TypeofContact, dtype: int64\n",
      "\n",
      "Salaried          2368\n",
      "Small Business    2084\n",
      "Large Business     434\n",
      "Free Lancer          2\n",
      "Name: Occupation, dtype: int64\n",
      "\n",
      "Male       2916\n",
      "Female     1817\n",
      "Fe Male     155\n",
      "Name: Gender, dtype: int64\n",
      "\n",
      "Basic           1842\n",
      "Deluxe          1732\n",
      "Standard         742\n",
      "Super Deluxe     342\n",
      "King             230\n",
      "Name: ProductPitched, dtype: int64\n",
      "\n",
      "Married      2340\n",
      "Divorced      950\n",
      "Single        916\n",
      "Unmarried     682\n",
      "Name: MaritalStatus, dtype: int64\n",
      "\n",
      "Executive         1842\n",
      "Manager           1732\n",
      "Senior Manager     742\n",
      "AVP                342\n",
      "VP                 230\n",
      "Name: Designation, dtype: int64\n",
      "\n"
     ]
    }
   ],
   "source": [
    "for i in obj_feature:\n",
    "    print(df[i].value_counts(),end='\\n\\n')"
   ]
  },
  {
   "cell_type": "code",
   "execution_count": 7,
   "id": "e12dfc06",
   "metadata": {},
   "outputs": [],
   "source": [
    "df['Gender'] = df['Gender'].replace({'Fe Male':'Female'})\n",
    "df['MaritalStatus'] = df['MaritalStatus'].str.strip()\n",
    "df['MaritalStatus'] = df['MaritalStatus'].str.replace('Unmarried', 'Single')\n"
   ]
  },
  {
   "cell_type": "code",
   "execution_count": 8,
   "id": "518b44ca",
   "metadata": {},
   "outputs": [
    {
     "data": {
      "text/plain": [
       "Male      2916\n",
       "Female    1972\n",
       "Name: Gender, dtype: int64"
      ]
     },
     "execution_count": 8,
     "metadata": {},
     "output_type": "execute_result"
    }
   ],
   "source": [
    "df['Gender'].value_counts()"
   ]
  },
  {
   "cell_type": "code",
   "execution_count": 9,
   "id": "eeba7ed7",
   "metadata": {},
   "outputs": [],
   "source": [
    "df = df.applymap(lambda x : x.strip() if isinstance(x,str) else x)"
   ]
  },
  {
   "cell_type": "code",
   "execution_count": 10,
   "id": "8c8cdc9c",
   "metadata": {},
   "outputs": [
    {
     "data": {
      "text/plain": [
       "0.04766775777414075"
      ]
     },
     "execution_count": 10,
     "metadata": {},
     "output_type": "execute_result"
    }
   ],
   "source": [
    "df['MonthlyIncome'].isna().mean()"
   ]
  },
  {
   "cell_type": "code",
   "execution_count": 11,
   "id": "5018e629",
   "metadata": {},
   "outputs": [
    {
     "data": {
      "text/plain": [
       "(4888, 20)"
      ]
     },
     "execution_count": 11,
     "metadata": {},
     "output_type": "execute_result"
    }
   ],
   "source": [
    "df.shape"
   ]
  },
  {
   "cell_type": "markdown",
   "id": "33e9e4b1",
   "metadata": {},
   "source": [
    "Finding Missing value in the columns"
   ]
  },
  {
   "cell_type": "code",
   "execution_count": 12,
   "id": "338d1e73",
   "metadata": {},
   "outputs": [
    {
     "data": {
      "text/plain": [
       "['Age',\n",
       " 'TypeofContact',\n",
       " 'DurationOfPitch',\n",
       " 'NumberOfFollowups',\n",
       " 'PreferredPropertyStar',\n",
       " 'NumberOfTrips',\n",
       " 'NumberOfChildrenVisiting',\n",
       " 'MonthlyIncome']"
      ]
     },
     "execution_count": 12,
     "metadata": {},
     "output_type": "execute_result"
    }
   ],
   "source": [
    "l =[]\n",
    "for i in df.columns:\n",
    "    if df[i].isna().sum()>=1:\n",
    "     l.append(i)\n",
    "l"
   ]
  },
  {
   "cell_type": "code",
   "execution_count": 13,
   "id": "abed11cb",
   "metadata": {},
   "outputs": [
    {
     "name": "stdout",
     "output_type": "stream",
     "text": [
      " missing value of Age is 4.62%,\n",
      " missing value of TypeofContact is 0.51%,\n",
      " missing value of DurationOfPitch is 5.14%,\n",
      " missing value of NumberOfFollowups is 0.92%,\n",
      " missing value of PreferredPropertyStar is 0.53%,\n",
      " missing value of NumberOfTrips is 2.86%,\n",
      " missing value of NumberOfChildrenVisiting is 1.35%,\n",
      " missing value of MonthlyIncome is 4.77%,\n"
     ]
    }
   ],
   "source": [
    "for i in l:\n",
    "    print(f\" missing value of {i} is {round(df[i].isna().mean()*100,2)}%,\",end=\"\\n\")"
   ]
  },
  {
   "cell_type": "code",
   "execution_count": 14,
   "id": "ef003f30",
   "metadata": {},
   "outputs": [
    {
     "data": {
      "text/html": [
       "<div>\n",
       "<style scoped>\n",
       "    .dataframe tbody tr th:only-of-type {\n",
       "        vertical-align: middle;\n",
       "    }\n",
       "\n",
       "    .dataframe tbody tr th {\n",
       "        vertical-align: top;\n",
       "    }\n",
       "\n",
       "    .dataframe thead th {\n",
       "        text-align: right;\n",
       "    }\n",
       "</style>\n",
       "<table border=\"1\" class=\"dataframe\">\n",
       "  <thead>\n",
       "    <tr style=\"text-align: right;\">\n",
       "      <th></th>\n",
       "      <th>CustomerID</th>\n",
       "      <th>ProdTaken</th>\n",
       "      <th>Age</th>\n",
       "      <th>CityTier</th>\n",
       "      <th>DurationOfPitch</th>\n",
       "      <th>NumberOfPersonVisiting</th>\n",
       "      <th>NumberOfFollowups</th>\n",
       "      <th>PreferredPropertyStar</th>\n",
       "      <th>NumberOfTrips</th>\n",
       "      <th>Passport</th>\n",
       "      <th>PitchSatisfactionScore</th>\n",
       "      <th>OwnCar</th>\n",
       "      <th>NumberOfChildrenVisiting</th>\n",
       "      <th>MonthlyIncome</th>\n",
       "    </tr>\n",
       "  </thead>\n",
       "  <tbody>\n",
       "    <tr>\n",
       "      <th>count</th>\n",
       "      <td>4888.000000</td>\n",
       "      <td>4888.000000</td>\n",
       "      <td>4662.000000</td>\n",
       "      <td>4888.000000</td>\n",
       "      <td>4637.000000</td>\n",
       "      <td>4888.000000</td>\n",
       "      <td>4843.000000</td>\n",
       "      <td>4862.000000</td>\n",
       "      <td>4748.000000</td>\n",
       "      <td>4888.000000</td>\n",
       "      <td>4888.000000</td>\n",
       "      <td>4888.000000</td>\n",
       "      <td>4822.000000</td>\n",
       "      <td>4655.000000</td>\n",
       "    </tr>\n",
       "    <tr>\n",
       "      <th>mean</th>\n",
       "      <td>202443.500000</td>\n",
       "      <td>0.188216</td>\n",
       "      <td>37.622265</td>\n",
       "      <td>1.654255</td>\n",
       "      <td>15.490835</td>\n",
       "      <td>2.905074</td>\n",
       "      <td>3.708445</td>\n",
       "      <td>3.581037</td>\n",
       "      <td>3.236521</td>\n",
       "      <td>0.290917</td>\n",
       "      <td>3.078151</td>\n",
       "      <td>0.620295</td>\n",
       "      <td>1.187267</td>\n",
       "      <td>23619.853491</td>\n",
       "    </tr>\n",
       "    <tr>\n",
       "      <th>std</th>\n",
       "      <td>1411.188388</td>\n",
       "      <td>0.390925</td>\n",
       "      <td>9.316387</td>\n",
       "      <td>0.916583</td>\n",
       "      <td>8.519643</td>\n",
       "      <td>0.724891</td>\n",
       "      <td>1.002509</td>\n",
       "      <td>0.798009</td>\n",
       "      <td>1.849019</td>\n",
       "      <td>0.454232</td>\n",
       "      <td>1.365792</td>\n",
       "      <td>0.485363</td>\n",
       "      <td>0.857861</td>\n",
       "      <td>5380.698361</td>\n",
       "    </tr>\n",
       "    <tr>\n",
       "      <th>min</th>\n",
       "      <td>200000.000000</td>\n",
       "      <td>0.000000</td>\n",
       "      <td>18.000000</td>\n",
       "      <td>1.000000</td>\n",
       "      <td>5.000000</td>\n",
       "      <td>1.000000</td>\n",
       "      <td>1.000000</td>\n",
       "      <td>3.000000</td>\n",
       "      <td>1.000000</td>\n",
       "      <td>0.000000</td>\n",
       "      <td>1.000000</td>\n",
       "      <td>0.000000</td>\n",
       "      <td>0.000000</td>\n",
       "      <td>1000.000000</td>\n",
       "    </tr>\n",
       "    <tr>\n",
       "      <th>25%</th>\n",
       "      <td>201221.750000</td>\n",
       "      <td>0.000000</td>\n",
       "      <td>31.000000</td>\n",
       "      <td>1.000000</td>\n",
       "      <td>9.000000</td>\n",
       "      <td>2.000000</td>\n",
       "      <td>3.000000</td>\n",
       "      <td>3.000000</td>\n",
       "      <td>2.000000</td>\n",
       "      <td>0.000000</td>\n",
       "      <td>2.000000</td>\n",
       "      <td>0.000000</td>\n",
       "      <td>1.000000</td>\n",
       "      <td>20346.000000</td>\n",
       "    </tr>\n",
       "    <tr>\n",
       "      <th>50%</th>\n",
       "      <td>202443.500000</td>\n",
       "      <td>0.000000</td>\n",
       "      <td>36.000000</td>\n",
       "      <td>1.000000</td>\n",
       "      <td>13.000000</td>\n",
       "      <td>3.000000</td>\n",
       "      <td>4.000000</td>\n",
       "      <td>3.000000</td>\n",
       "      <td>3.000000</td>\n",
       "      <td>0.000000</td>\n",
       "      <td>3.000000</td>\n",
       "      <td>1.000000</td>\n",
       "      <td>1.000000</td>\n",
       "      <td>22347.000000</td>\n",
       "    </tr>\n",
       "    <tr>\n",
       "      <th>75%</th>\n",
       "      <td>203665.250000</td>\n",
       "      <td>0.000000</td>\n",
       "      <td>44.000000</td>\n",
       "      <td>3.000000</td>\n",
       "      <td>20.000000</td>\n",
       "      <td>3.000000</td>\n",
       "      <td>4.000000</td>\n",
       "      <td>4.000000</td>\n",
       "      <td>4.000000</td>\n",
       "      <td>1.000000</td>\n",
       "      <td>4.000000</td>\n",
       "      <td>1.000000</td>\n",
       "      <td>2.000000</td>\n",
       "      <td>25571.000000</td>\n",
       "    </tr>\n",
       "    <tr>\n",
       "      <th>max</th>\n",
       "      <td>204887.000000</td>\n",
       "      <td>1.000000</td>\n",
       "      <td>61.000000</td>\n",
       "      <td>3.000000</td>\n",
       "      <td>127.000000</td>\n",
       "      <td>5.000000</td>\n",
       "      <td>6.000000</td>\n",
       "      <td>5.000000</td>\n",
       "      <td>22.000000</td>\n",
       "      <td>1.000000</td>\n",
       "      <td>5.000000</td>\n",
       "      <td>1.000000</td>\n",
       "      <td>3.000000</td>\n",
       "      <td>98678.000000</td>\n",
       "    </tr>\n",
       "  </tbody>\n",
       "</table>\n",
       "</div>"
      ],
      "text/plain": [
       "          CustomerID    ProdTaken          Age     CityTier  DurationOfPitch  \\\n",
       "count    4888.000000  4888.000000  4662.000000  4888.000000      4637.000000   \n",
       "mean   202443.500000     0.188216    37.622265     1.654255        15.490835   \n",
       "std      1411.188388     0.390925     9.316387     0.916583         8.519643   \n",
       "min    200000.000000     0.000000    18.000000     1.000000         5.000000   \n",
       "25%    201221.750000     0.000000    31.000000     1.000000         9.000000   \n",
       "50%    202443.500000     0.000000    36.000000     1.000000        13.000000   \n",
       "75%    203665.250000     0.000000    44.000000     3.000000        20.000000   \n",
       "max    204887.000000     1.000000    61.000000     3.000000       127.000000   \n",
       "\n",
       "       NumberOfPersonVisiting  NumberOfFollowups  PreferredPropertyStar  \\\n",
       "count             4888.000000        4843.000000            4862.000000   \n",
       "mean                 2.905074           3.708445               3.581037   \n",
       "std                  0.724891           1.002509               0.798009   \n",
       "min                  1.000000           1.000000               3.000000   \n",
       "25%                  2.000000           3.000000               3.000000   \n",
       "50%                  3.000000           4.000000               3.000000   \n",
       "75%                  3.000000           4.000000               4.000000   \n",
       "max                  5.000000           6.000000               5.000000   \n",
       "\n",
       "       NumberOfTrips     Passport  PitchSatisfactionScore       OwnCar  \\\n",
       "count    4748.000000  4888.000000             4888.000000  4888.000000   \n",
       "mean        3.236521     0.290917                3.078151     0.620295   \n",
       "std         1.849019     0.454232                1.365792     0.485363   \n",
       "min         1.000000     0.000000                1.000000     0.000000   \n",
       "25%         2.000000     0.000000                2.000000     0.000000   \n",
       "50%         3.000000     0.000000                3.000000     1.000000   \n",
       "75%         4.000000     1.000000                4.000000     1.000000   \n",
       "max        22.000000     1.000000                5.000000     1.000000   \n",
       "\n",
       "       NumberOfChildrenVisiting  MonthlyIncome  \n",
       "count               4822.000000    4655.000000  \n",
       "mean                   1.187267   23619.853491  \n",
       "std                    0.857861    5380.698361  \n",
       "min                    0.000000    1000.000000  \n",
       "25%                    1.000000   20346.000000  \n",
       "50%                    1.000000   22347.000000  \n",
       "75%                    2.000000   25571.000000  \n",
       "max                    3.000000   98678.000000  "
      ]
     },
     "execution_count": 14,
     "metadata": {},
     "output_type": "execute_result"
    }
   ],
   "source": [
    "df.select_dtypes([int,float]).describe()"
   ]
  },
  {
   "cell_type": "code",
   "execution_count": 15,
   "id": "23faa173",
   "metadata": {},
   "outputs": [],
   "source": [
    "# replace missing  value"
   ]
  },
  {
   "cell_type": "code",
   "execution_count": 16,
   "id": "b82446f7",
   "metadata": {},
   "outputs": [
    {
     "data": {
      "text/plain": [
       "Index(['CustomerID', 'ProdTaken', 'Age', 'CityTier', 'DurationOfPitch',\n",
       "       'NumberOfPersonVisiting', 'NumberOfFollowups', 'PreferredPropertyStar',\n",
       "       'NumberOfTrips', 'Passport', 'PitchSatisfactionScore', 'OwnCar',\n",
       "       'NumberOfChildrenVisiting', 'MonthlyIncome'],\n",
       "      dtype='object')"
      ]
     },
     "execution_count": 16,
     "metadata": {},
     "output_type": "execute_result"
    }
   ],
   "source": [
    "num_features"
   ]
  },
  {
   "cell_type": "code",
   "execution_count": 17,
   "id": "d15b69de",
   "metadata": {},
   "outputs": [
    {
     "name": "stdout",
     "output_type": "stream",
     "text": [
      "Number of missing values in CustomerID is 0\n",
      "Number of missing values in ProdTaken is 0\n",
      "Number of missing values in Age is 0\n",
      "Number of missing values in CityTier is 0\n",
      "Number of missing values in DurationOfPitch is 0\n",
      "Number of missing values in NumberOfPersonVisiting is 0\n",
      "Number of missing values in NumberOfFollowups is 0\n",
      "Number of missing values in PreferredPropertyStar is 0\n",
      "Number of missing values in NumberOfTrips is 0\n",
      "Number of missing values in Passport is 0\n",
      "Number of missing values in PitchSatisfactionScore is 0\n",
      "Number of missing values in OwnCar is 0\n",
      "Number of missing values in NumberOfChildrenVisiting is 0\n",
      "Number of missing values in MonthlyIncome is 0\n"
     ]
    }
   ],
   "source": [
    "for i in num_features:\n",
    "    median_value = df[i].median()  # Calculate the median once for each column\n",
    "    df[i] = df[i].fillna(median_value)  # Fill missing values with the median\n",
    "    print(f\"Number of missing values in {i} is {df[i].isna().sum()}\")"
   ]
  },
  {
   "cell_type": "code",
   "execution_count": 18,
   "id": "43107050",
   "metadata": {},
   "outputs": [
    {
     "data": {
      "text/plain": [
       "0    41.0\n",
       "1    49.0\n",
       "2    37.0\n",
       "3    33.0\n",
       "4    36.0\n",
       "Name: Age, dtype: float64"
      ]
     },
     "execution_count": 18,
     "metadata": {},
     "output_type": "execute_result"
    }
   ],
   "source": [
    "df['Age'].head(5)"
   ]
  },
  {
   "cell_type": "code",
   "execution_count": 19,
   "id": "58b7c34a",
   "metadata": {},
   "outputs": [
    {
     "name": "stdout",
     "output_type": "stream",
     "text": [
      "<class 'pandas.core.series.Series'>\n",
      "RangeIndex: 4888 entries, 0 to 4887\n",
      "Series name: Age\n",
      "Non-Null Count  Dtype  \n",
      "--------------  -----  \n",
      "4888 non-null   float64\n",
      "dtypes: float64(1)\n",
      "memory usage: 38.3 KB\n"
     ]
    }
   ],
   "source": [
    "df['Age'].info()"
   ]
  },
  {
   "cell_type": "code",
   "execution_count": 20,
   "id": "7eb21819",
   "metadata": {},
   "outputs": [
    {
     "data": {
      "text/plain": [
       "Index(['TypeofContact', 'Occupation', 'Gender', 'ProductPitched',\n",
       "       'MaritalStatus', 'Designation'],\n",
       "      dtype='object')"
      ]
     },
     "execution_count": 20,
     "metadata": {},
     "output_type": "execute_result"
    }
   ],
   "source": [
    "obj_col1 = df.columns[df.dtypes =='object']\n",
    "obj_col1"
   ]
  },
  {
   "cell_type": "code",
   "execution_count": 21,
   "id": "2e8061f2",
   "metadata": {},
   "outputs": [
    {
     "data": {
      "text/plain": [
       "Index(['TypeofContact', 'Occupation', 'Gender', 'ProductPitched',\n",
       "       'MaritalStatus', 'Designation'],\n",
       "      dtype='object')"
      ]
     },
     "execution_count": 21,
     "metadata": {},
     "output_type": "execute_result"
    }
   ],
   "source": [
    "obj_feature"
   ]
  },
  {
   "cell_type": "code",
   "execution_count": 22,
   "id": "82cede75",
   "metadata": {},
   "outputs": [
    {
     "name": "stdout",
     "output_type": "stream",
     "text": [
      "number of missing valueTypeofContact is 0\n",
      "number of missing valueOccupation is 0\n",
      "number of missing valueGender is 0\n",
      "number of missing valueProductPitched is 0\n",
      "number of missing valueMaritalStatus is 0\n",
      "number of missing valueDesignation is 0\n"
     ]
    }
   ],
   "source": [
    "for i in obj_feature:\n",
    "    df[i] = df[i].apply(lambda x: df[i].mode()[0] if pd.isna(x) else x)\n",
    "    print(f\"number of missing value{i} is {df[i].isna().sum()}\")"
   ]
  },
  {
   "cell_type": "code",
   "execution_count": 23,
   "id": "cedc3f76",
   "metadata": {},
   "outputs": [],
   "source": [
    "#CustomerID  is not usefull for the model "
   ]
  },
  {
   "cell_type": "code",
   "execution_count": 24,
   "id": "4aefeb5b",
   "metadata": {},
   "outputs": [],
   "source": [
    "df = df.drop(columns =['CustomerID'])"
   ]
  },
  {
   "cell_type": "code",
   "execution_count": 25,
   "id": "5db1bbaf",
   "metadata": {},
   "outputs": [
    {
     "data": {
      "text/html": [
       "<div>\n",
       "<style scoped>\n",
       "    .dataframe tbody tr th:only-of-type {\n",
       "        vertical-align: middle;\n",
       "    }\n",
       "\n",
       "    .dataframe tbody tr th {\n",
       "        vertical-align: top;\n",
       "    }\n",
       "\n",
       "    .dataframe thead th {\n",
       "        text-align: right;\n",
       "    }\n",
       "</style>\n",
       "<table border=\"1\" class=\"dataframe\">\n",
       "  <thead>\n",
       "    <tr style=\"text-align: right;\">\n",
       "      <th></th>\n",
       "      <th>ProdTaken</th>\n",
       "      <th>Age</th>\n",
       "      <th>TypeofContact</th>\n",
       "      <th>CityTier</th>\n",
       "      <th>DurationOfPitch</th>\n",
       "      <th>Occupation</th>\n",
       "      <th>Gender</th>\n",
       "      <th>NumberOfPersonVisiting</th>\n",
       "      <th>NumberOfFollowups</th>\n",
       "      <th>ProductPitched</th>\n",
       "      <th>PreferredPropertyStar</th>\n",
       "      <th>MaritalStatus</th>\n",
       "      <th>NumberOfTrips</th>\n",
       "      <th>Passport</th>\n",
       "      <th>PitchSatisfactionScore</th>\n",
       "      <th>OwnCar</th>\n",
       "      <th>NumberOfChildrenVisiting</th>\n",
       "      <th>Designation</th>\n",
       "      <th>MonthlyIncome</th>\n",
       "    </tr>\n",
       "  </thead>\n",
       "  <tbody>\n",
       "    <tr>\n",
       "      <th>0</th>\n",
       "      <td>1</td>\n",
       "      <td>41.0</td>\n",
       "      <td>Self Enquiry</td>\n",
       "      <td>3</td>\n",
       "      <td>6.0</td>\n",
       "      <td>Salaried</td>\n",
       "      <td>Female</td>\n",
       "      <td>3</td>\n",
       "      <td>3.0</td>\n",
       "      <td>Deluxe</td>\n",
       "      <td>3.0</td>\n",
       "      <td>Single</td>\n",
       "      <td>1.0</td>\n",
       "      <td>1</td>\n",
       "      <td>2</td>\n",
       "      <td>1</td>\n",
       "      <td>0.0</td>\n",
       "      <td>Manager</td>\n",
       "      <td>20993.0</td>\n",
       "    </tr>\n",
       "    <tr>\n",
       "      <th>1</th>\n",
       "      <td>0</td>\n",
       "      <td>49.0</td>\n",
       "      <td>Company Invited</td>\n",
       "      <td>1</td>\n",
       "      <td>14.0</td>\n",
       "      <td>Salaried</td>\n",
       "      <td>Male</td>\n",
       "      <td>3</td>\n",
       "      <td>4.0</td>\n",
       "      <td>Deluxe</td>\n",
       "      <td>4.0</td>\n",
       "      <td>Divorced</td>\n",
       "      <td>2.0</td>\n",
       "      <td>0</td>\n",
       "      <td>3</td>\n",
       "      <td>1</td>\n",
       "      <td>2.0</td>\n",
       "      <td>Manager</td>\n",
       "      <td>20130.0</td>\n",
       "    </tr>\n",
       "    <tr>\n",
       "      <th>2</th>\n",
       "      <td>1</td>\n",
       "      <td>37.0</td>\n",
       "      <td>Self Enquiry</td>\n",
       "      <td>1</td>\n",
       "      <td>8.0</td>\n",
       "      <td>Free Lancer</td>\n",
       "      <td>Male</td>\n",
       "      <td>3</td>\n",
       "      <td>4.0</td>\n",
       "      <td>Basic</td>\n",
       "      <td>3.0</td>\n",
       "      <td>Single</td>\n",
       "      <td>7.0</td>\n",
       "      <td>1</td>\n",
       "      <td>3</td>\n",
       "      <td>0</td>\n",
       "      <td>0.0</td>\n",
       "      <td>Executive</td>\n",
       "      <td>17090.0</td>\n",
       "    </tr>\n",
       "  </tbody>\n",
       "</table>\n",
       "</div>"
      ],
      "text/plain": [
       "   ProdTaken   Age    TypeofContact  CityTier  DurationOfPitch   Occupation  \\\n",
       "0          1  41.0     Self Enquiry         3              6.0     Salaried   \n",
       "1          0  49.0  Company Invited         1             14.0     Salaried   \n",
       "2          1  37.0     Self Enquiry         1              8.0  Free Lancer   \n",
       "\n",
       "   Gender  NumberOfPersonVisiting  NumberOfFollowups ProductPitched  \\\n",
       "0  Female                       3                3.0         Deluxe   \n",
       "1    Male                       3                4.0         Deluxe   \n",
       "2    Male                       3                4.0          Basic   \n",
       "\n",
       "   PreferredPropertyStar MaritalStatus  NumberOfTrips  Passport  \\\n",
       "0                    3.0        Single            1.0         1   \n",
       "1                    4.0      Divorced            2.0         0   \n",
       "2                    3.0        Single            7.0         1   \n",
       "\n",
       "   PitchSatisfactionScore  OwnCar  NumberOfChildrenVisiting Designation  \\\n",
       "0                       2       1                       0.0     Manager   \n",
       "1                       3       1                       2.0     Manager   \n",
       "2                       3       0                       0.0   Executive   \n",
       "\n",
       "   MonthlyIncome  \n",
       "0        20993.0  \n",
       "1        20130.0  \n",
       "2        17090.0  "
      ]
     },
     "execution_count": 25,
     "metadata": {},
     "output_type": "execute_result"
    }
   ],
   "source": [
    "df.head(3)"
   ]
  },
  {
   "cell_type": "code",
   "execution_count": 26,
   "id": "6ff8b474",
   "metadata": {},
   "outputs": [],
   "source": [
    "# adding column total number of visit"
   ]
  },
  {
   "cell_type": "code",
   "execution_count": 27,
   "id": "c835544a",
   "metadata": {},
   "outputs": [],
   "source": [
    "df['NumberOfChildrenVisiting'] = pd.to_numeric(df['NumberOfChildrenVisiting'], errors='coerce')\n"
   ]
  },
  {
   "cell_type": "code",
   "execution_count": 28,
   "id": "c8678f68",
   "metadata": {},
   "outputs": [],
   "source": [
    "df['Total_visit'] = df['NumberOfPersonVisiting'] + df['NumberOfChildrenVisiting']"
   ]
  },
  {
   "cell_type": "code",
   "execution_count": 29,
   "id": "397c1667",
   "metadata": {},
   "outputs": [
    {
     "data": {
      "text/html": [
       "<div>\n",
       "<style scoped>\n",
       "    .dataframe tbody tr th:only-of-type {\n",
       "        vertical-align: middle;\n",
       "    }\n",
       "\n",
       "    .dataframe tbody tr th {\n",
       "        vertical-align: top;\n",
       "    }\n",
       "\n",
       "    .dataframe thead th {\n",
       "        text-align: right;\n",
       "    }\n",
       "</style>\n",
       "<table border=\"1\" class=\"dataframe\">\n",
       "  <thead>\n",
       "    <tr style=\"text-align: right;\">\n",
       "      <th></th>\n",
       "      <th>ProdTaken</th>\n",
       "      <th>Age</th>\n",
       "      <th>TypeofContact</th>\n",
       "      <th>CityTier</th>\n",
       "      <th>DurationOfPitch</th>\n",
       "      <th>Occupation</th>\n",
       "      <th>Gender</th>\n",
       "      <th>NumberOfPersonVisiting</th>\n",
       "      <th>NumberOfFollowups</th>\n",
       "      <th>ProductPitched</th>\n",
       "      <th>PreferredPropertyStar</th>\n",
       "      <th>MaritalStatus</th>\n",
       "      <th>NumberOfTrips</th>\n",
       "      <th>Passport</th>\n",
       "      <th>PitchSatisfactionScore</th>\n",
       "      <th>OwnCar</th>\n",
       "      <th>NumberOfChildrenVisiting</th>\n",
       "      <th>Designation</th>\n",
       "      <th>MonthlyIncome</th>\n",
       "      <th>Total_visit</th>\n",
       "    </tr>\n",
       "  </thead>\n",
       "  <tbody>\n",
       "    <tr>\n",
       "      <th>0</th>\n",
       "      <td>1</td>\n",
       "      <td>41.0</td>\n",
       "      <td>Self Enquiry</td>\n",
       "      <td>3</td>\n",
       "      <td>6.0</td>\n",
       "      <td>Salaried</td>\n",
       "      <td>Female</td>\n",
       "      <td>3</td>\n",
       "      <td>3.0</td>\n",
       "      <td>Deluxe</td>\n",
       "      <td>3.0</td>\n",
       "      <td>Single</td>\n",
       "      <td>1.0</td>\n",
       "      <td>1</td>\n",
       "      <td>2</td>\n",
       "      <td>1</td>\n",
       "      <td>0.0</td>\n",
       "      <td>Manager</td>\n",
       "      <td>20993.0</td>\n",
       "      <td>3.0</td>\n",
       "    </tr>\n",
       "    <tr>\n",
       "      <th>1</th>\n",
       "      <td>0</td>\n",
       "      <td>49.0</td>\n",
       "      <td>Company Invited</td>\n",
       "      <td>1</td>\n",
       "      <td>14.0</td>\n",
       "      <td>Salaried</td>\n",
       "      <td>Male</td>\n",
       "      <td>3</td>\n",
       "      <td>4.0</td>\n",
       "      <td>Deluxe</td>\n",
       "      <td>4.0</td>\n",
       "      <td>Divorced</td>\n",
       "      <td>2.0</td>\n",
       "      <td>0</td>\n",
       "      <td>3</td>\n",
       "      <td>1</td>\n",
       "      <td>2.0</td>\n",
       "      <td>Manager</td>\n",
       "      <td>20130.0</td>\n",
       "      <td>5.0</td>\n",
       "    </tr>\n",
       "    <tr>\n",
       "      <th>2</th>\n",
       "      <td>1</td>\n",
       "      <td>37.0</td>\n",
       "      <td>Self Enquiry</td>\n",
       "      <td>1</td>\n",
       "      <td>8.0</td>\n",
       "      <td>Free Lancer</td>\n",
       "      <td>Male</td>\n",
       "      <td>3</td>\n",
       "      <td>4.0</td>\n",
       "      <td>Basic</td>\n",
       "      <td>3.0</td>\n",
       "      <td>Single</td>\n",
       "      <td>7.0</td>\n",
       "      <td>1</td>\n",
       "      <td>3</td>\n",
       "      <td>0</td>\n",
       "      <td>0.0</td>\n",
       "      <td>Executive</td>\n",
       "      <td>17090.0</td>\n",
       "      <td>3.0</td>\n",
       "    </tr>\n",
       "  </tbody>\n",
       "</table>\n",
       "</div>"
      ],
      "text/plain": [
       "   ProdTaken   Age    TypeofContact  CityTier  DurationOfPitch   Occupation  \\\n",
       "0          1  41.0     Self Enquiry         3              6.0     Salaried   \n",
       "1          0  49.0  Company Invited         1             14.0     Salaried   \n",
       "2          1  37.0     Self Enquiry         1              8.0  Free Lancer   \n",
       "\n",
       "   Gender  NumberOfPersonVisiting  NumberOfFollowups ProductPitched  \\\n",
       "0  Female                       3                3.0         Deluxe   \n",
       "1    Male                       3                4.0         Deluxe   \n",
       "2    Male                       3                4.0          Basic   \n",
       "\n",
       "   PreferredPropertyStar MaritalStatus  NumberOfTrips  Passport  \\\n",
       "0                    3.0        Single            1.0         1   \n",
       "1                    4.0      Divorced            2.0         0   \n",
       "2                    3.0        Single            7.0         1   \n",
       "\n",
       "   PitchSatisfactionScore  OwnCar  NumberOfChildrenVisiting Designation  \\\n",
       "0                       2       1                       0.0     Manager   \n",
       "1                       3       1                       2.0     Manager   \n",
       "2                       3       0                       0.0   Executive   \n",
       "\n",
       "   MonthlyIncome  Total_visit  \n",
       "0        20993.0          3.0  \n",
       "1        20130.0          5.0  \n",
       "2        17090.0          3.0  "
      ]
     },
     "execution_count": 29,
     "metadata": {},
     "output_type": "execute_result"
    }
   ],
   "source": [
    "df.head(3)"
   ]
  },
  {
   "cell_type": "code",
   "execution_count": 30,
   "id": "40002a9b",
   "metadata": {},
   "outputs": [],
   "source": [
    "df.drop(columns =['NumberOfPersonVisiting','NumberOfChildrenVisiting'], inplace= True)"
   ]
  },
  {
   "cell_type": "code",
   "execution_count": 31,
   "id": "e90e16c0",
   "metadata": {},
   "outputs": [
    {
     "data": {
      "text/html": [
       "<div>\n",
       "<style scoped>\n",
       "    .dataframe tbody tr th:only-of-type {\n",
       "        vertical-align: middle;\n",
       "    }\n",
       "\n",
       "    .dataframe tbody tr th {\n",
       "        vertical-align: top;\n",
       "    }\n",
       "\n",
       "    .dataframe thead th {\n",
       "        text-align: right;\n",
       "    }\n",
       "</style>\n",
       "<table border=\"1\" class=\"dataframe\">\n",
       "  <thead>\n",
       "    <tr style=\"text-align: right;\">\n",
       "      <th></th>\n",
       "      <th>ProdTaken</th>\n",
       "      <th>Age</th>\n",
       "      <th>TypeofContact</th>\n",
       "      <th>CityTier</th>\n",
       "      <th>DurationOfPitch</th>\n",
       "      <th>Occupation</th>\n",
       "      <th>Gender</th>\n",
       "      <th>NumberOfFollowups</th>\n",
       "      <th>ProductPitched</th>\n",
       "      <th>PreferredPropertyStar</th>\n",
       "      <th>MaritalStatus</th>\n",
       "      <th>NumberOfTrips</th>\n",
       "      <th>Passport</th>\n",
       "      <th>PitchSatisfactionScore</th>\n",
       "      <th>OwnCar</th>\n",
       "      <th>Designation</th>\n",
       "      <th>MonthlyIncome</th>\n",
       "      <th>Total_visit</th>\n",
       "    </tr>\n",
       "  </thead>\n",
       "  <tbody>\n",
       "    <tr>\n",
       "      <th>0</th>\n",
       "      <td>1</td>\n",
       "      <td>41.0</td>\n",
       "      <td>Self Enquiry</td>\n",
       "      <td>3</td>\n",
       "      <td>6.0</td>\n",
       "      <td>Salaried</td>\n",
       "      <td>Female</td>\n",
       "      <td>3.0</td>\n",
       "      <td>Deluxe</td>\n",
       "      <td>3.0</td>\n",
       "      <td>Single</td>\n",
       "      <td>1.0</td>\n",
       "      <td>1</td>\n",
       "      <td>2</td>\n",
       "      <td>1</td>\n",
       "      <td>Manager</td>\n",
       "      <td>20993.0</td>\n",
       "      <td>3.0</td>\n",
       "    </tr>\n",
       "    <tr>\n",
       "      <th>1</th>\n",
       "      <td>0</td>\n",
       "      <td>49.0</td>\n",
       "      <td>Company Invited</td>\n",
       "      <td>1</td>\n",
       "      <td>14.0</td>\n",
       "      <td>Salaried</td>\n",
       "      <td>Male</td>\n",
       "      <td>4.0</td>\n",
       "      <td>Deluxe</td>\n",
       "      <td>4.0</td>\n",
       "      <td>Divorced</td>\n",
       "      <td>2.0</td>\n",
       "      <td>0</td>\n",
       "      <td>3</td>\n",
       "      <td>1</td>\n",
       "      <td>Manager</td>\n",
       "      <td>20130.0</td>\n",
       "      <td>5.0</td>\n",
       "    </tr>\n",
       "    <tr>\n",
       "      <th>2</th>\n",
       "      <td>1</td>\n",
       "      <td>37.0</td>\n",
       "      <td>Self Enquiry</td>\n",
       "      <td>1</td>\n",
       "      <td>8.0</td>\n",
       "      <td>Free Lancer</td>\n",
       "      <td>Male</td>\n",
       "      <td>4.0</td>\n",
       "      <td>Basic</td>\n",
       "      <td>3.0</td>\n",
       "      <td>Single</td>\n",
       "      <td>7.0</td>\n",
       "      <td>1</td>\n",
       "      <td>3</td>\n",
       "      <td>0</td>\n",
       "      <td>Executive</td>\n",
       "      <td>17090.0</td>\n",
       "      <td>3.0</td>\n",
       "    </tr>\n",
       "  </tbody>\n",
       "</table>\n",
       "</div>"
      ],
      "text/plain": [
       "   ProdTaken   Age    TypeofContact  CityTier  DurationOfPitch   Occupation  \\\n",
       "0          1  41.0     Self Enquiry         3              6.0     Salaried   \n",
       "1          0  49.0  Company Invited         1             14.0     Salaried   \n",
       "2          1  37.0     Self Enquiry         1              8.0  Free Lancer   \n",
       "\n",
       "   Gender  NumberOfFollowups ProductPitched  PreferredPropertyStar  \\\n",
       "0  Female                3.0         Deluxe                    3.0   \n",
       "1    Male                4.0         Deluxe                    4.0   \n",
       "2    Male                4.0          Basic                    3.0   \n",
       "\n",
       "  MaritalStatus  NumberOfTrips  Passport  PitchSatisfactionScore  OwnCar  \\\n",
       "0        Single            1.0         1                       2       1   \n",
       "1      Divorced            2.0         0                       3       1   \n",
       "2        Single            7.0         1                       3       0   \n",
       "\n",
       "  Designation  MonthlyIncome  Total_visit  \n",
       "0     Manager        20993.0          3.0  \n",
       "1     Manager        20130.0          5.0  \n",
       "2   Executive        17090.0          3.0  "
      ]
     },
     "execution_count": 31,
     "metadata": {},
     "output_type": "execute_result"
    }
   ],
   "source": [
    "df.head(3)"
   ]
  },
  {
   "cell_type": "code",
   "execution_count": 32,
   "id": "4ed90c7f",
   "metadata": {},
   "outputs": [
    {
     "name": "stdout",
     "output_type": "stream",
     "text": [
      "<class 'pandas.core.frame.DataFrame'>\n",
      "RangeIndex: 4888 entries, 0 to 4887\n",
      "Data columns (total 18 columns):\n",
      " #   Column                  Non-Null Count  Dtype  \n",
      "---  ------                  --------------  -----  \n",
      " 0   ProdTaken               4888 non-null   int64  \n",
      " 1   Age                     4888 non-null   float64\n",
      " 2   TypeofContact           4888 non-null   object \n",
      " 3   CityTier                4888 non-null   int64  \n",
      " 4   DurationOfPitch         4888 non-null   float64\n",
      " 5   Occupation              4888 non-null   object \n",
      " 6   Gender                  4888 non-null   object \n",
      " 7   NumberOfFollowups       4888 non-null   float64\n",
      " 8   ProductPitched          4888 non-null   object \n",
      " 9   PreferredPropertyStar   4888 non-null   float64\n",
      " 10  MaritalStatus           4888 non-null   object \n",
      " 11  NumberOfTrips           4888 non-null   float64\n",
      " 12  Passport                4888 non-null   int64  \n",
      " 13  PitchSatisfactionScore  4888 non-null   int64  \n",
      " 14  OwnCar                  4888 non-null   int64  \n",
      " 15  Designation             4888 non-null   object \n",
      " 16  MonthlyIncome           4888 non-null   float64\n",
      " 17  Total_visit             4888 non-null   float64\n",
      "dtypes: float64(7), int64(5), object(6)\n",
      "memory usage: 687.5+ KB\n"
     ]
    }
   ],
   "source": [
    "df.info()"
   ]
  },
  {
   "cell_type": "code",
   "execution_count": 33,
   "id": "23087099",
   "metadata": {},
   "outputs": [
    {
     "data": {
      "text/plain": [
       "Index(['TypeofContact', 'Occupation', 'Gender', 'ProductPitched',\n",
       "       'MaritalStatus', 'Designation'],\n",
       "      dtype='object')"
      ]
     },
     "execution_count": 33,
     "metadata": {},
     "output_type": "execute_result"
    }
   ],
   "source": [
    "df_object = df.columns[df.dtypes == 'object']\n",
    "df_object"
   ]
  },
  {
   "cell_type": "code",
   "execution_count": 34,
   "id": "23de7b25",
   "metadata": {},
   "outputs": [
    {
     "data": {
      "text/html": [
       "<div>\n",
       "<style scoped>\n",
       "    .dataframe tbody tr th:only-of-type {\n",
       "        vertical-align: middle;\n",
       "    }\n",
       "\n",
       "    .dataframe tbody tr th {\n",
       "        vertical-align: top;\n",
       "    }\n",
       "\n",
       "    .dataframe thead th {\n",
       "        text-align: right;\n",
       "    }\n",
       "</style>\n",
       "<table border=\"1\" class=\"dataframe\">\n",
       "  <thead>\n",
       "    <tr style=\"text-align: right;\">\n",
       "      <th></th>\n",
       "      <th>Age</th>\n",
       "      <th>TypeofContact</th>\n",
       "      <th>CityTier</th>\n",
       "      <th>DurationOfPitch</th>\n",
       "      <th>Occupation</th>\n",
       "      <th>Gender</th>\n",
       "      <th>NumberOfFollowups</th>\n",
       "      <th>ProductPitched</th>\n",
       "      <th>PreferredPropertyStar</th>\n",
       "      <th>MaritalStatus</th>\n",
       "      <th>NumberOfTrips</th>\n",
       "      <th>Passport</th>\n",
       "      <th>PitchSatisfactionScore</th>\n",
       "      <th>OwnCar</th>\n",
       "      <th>Designation</th>\n",
       "      <th>MonthlyIncome</th>\n",
       "      <th>Total_visit</th>\n",
       "    </tr>\n",
       "  </thead>\n",
       "  <tbody>\n",
       "    <tr>\n",
       "      <th>0</th>\n",
       "      <td>41.0</td>\n",
       "      <td>Self Enquiry</td>\n",
       "      <td>3</td>\n",
       "      <td>6.0</td>\n",
       "      <td>Salaried</td>\n",
       "      <td>Female</td>\n",
       "      <td>3.0</td>\n",
       "      <td>Deluxe</td>\n",
       "      <td>3.0</td>\n",
       "      <td>Single</td>\n",
       "      <td>1.0</td>\n",
       "      <td>1</td>\n",
       "      <td>2</td>\n",
       "      <td>1</td>\n",
       "      <td>Manager</td>\n",
       "      <td>20993.0</td>\n",
       "      <td>3.0</td>\n",
       "    </tr>\n",
       "    <tr>\n",
       "      <th>1</th>\n",
       "      <td>49.0</td>\n",
       "      <td>Company Invited</td>\n",
       "      <td>1</td>\n",
       "      <td>14.0</td>\n",
       "      <td>Salaried</td>\n",
       "      <td>Male</td>\n",
       "      <td>4.0</td>\n",
       "      <td>Deluxe</td>\n",
       "      <td>4.0</td>\n",
       "      <td>Divorced</td>\n",
       "      <td>2.0</td>\n",
       "      <td>0</td>\n",
       "      <td>3</td>\n",
       "      <td>1</td>\n",
       "      <td>Manager</td>\n",
       "      <td>20130.0</td>\n",
       "      <td>5.0</td>\n",
       "    </tr>\n",
       "    <tr>\n",
       "      <th>2</th>\n",
       "      <td>37.0</td>\n",
       "      <td>Self Enquiry</td>\n",
       "      <td>1</td>\n",
       "      <td>8.0</td>\n",
       "      <td>Free Lancer</td>\n",
       "      <td>Male</td>\n",
       "      <td>4.0</td>\n",
       "      <td>Basic</td>\n",
       "      <td>3.0</td>\n",
       "      <td>Single</td>\n",
       "      <td>7.0</td>\n",
       "      <td>1</td>\n",
       "      <td>3</td>\n",
       "      <td>0</td>\n",
       "      <td>Executive</td>\n",
       "      <td>17090.0</td>\n",
       "      <td>3.0</td>\n",
       "    </tr>\n",
       "  </tbody>\n",
       "</table>\n",
       "</div>"
      ],
      "text/plain": [
       "    Age    TypeofContact  CityTier  DurationOfPitch   Occupation  Gender  \\\n",
       "0  41.0     Self Enquiry         3              6.0     Salaried  Female   \n",
       "1  49.0  Company Invited         1             14.0     Salaried    Male   \n",
       "2  37.0     Self Enquiry         1              8.0  Free Lancer    Male   \n",
       "\n",
       "   NumberOfFollowups ProductPitched  PreferredPropertyStar MaritalStatus  \\\n",
       "0                3.0         Deluxe                    3.0        Single   \n",
       "1                4.0         Deluxe                    4.0      Divorced   \n",
       "2                4.0          Basic                    3.0        Single   \n",
       "\n",
       "   NumberOfTrips  Passport  PitchSatisfactionScore  OwnCar Designation  \\\n",
       "0            1.0         1                       2       1     Manager   \n",
       "1            2.0         0                       3       1     Manager   \n",
       "2            7.0         1                       3       0   Executive   \n",
       "\n",
       "   MonthlyIncome  Total_visit  \n",
       "0        20993.0          3.0  \n",
       "1        20130.0          5.0  \n",
       "2        17090.0          3.0  "
      ]
     },
     "execution_count": 34,
     "metadata": {},
     "output_type": "execute_result"
    }
   ],
   "source": [
    "x = df.drop('ProdTaken', axis =1)\n",
    "x.head(3)"
   ]
  },
  {
   "cell_type": "code",
   "execution_count": 35,
   "id": "74b8178f",
   "metadata": {},
   "outputs": [
    {
     "data": {
      "text/plain": [
       "0    1\n",
       "1    0\n",
       "2    1\n",
       "Name: ProdTaken, dtype: int64"
      ]
     },
     "execution_count": 35,
     "metadata": {},
     "output_type": "execute_result"
    }
   ],
   "source": [
    "y  =df['ProdTaken']\n",
    "y.head(3)"
   ]
  },
  {
   "cell_type": "code",
   "execution_count": 36,
   "id": "81118d01",
   "metadata": {},
   "outputs": [
    {
     "data": {
      "text/plain": [
       "0    3968\n",
       "1     920\n",
       "Name: ProdTaken, dtype: int64"
      ]
     },
     "execution_count": 36,
     "metadata": {},
     "output_type": "execute_result"
    }
   ],
   "source": [
    "y.value_counts()"
   ]
  },
  {
   "cell_type": "code",
   "execution_count": null,
   "id": "d35ba30a",
   "metadata": {},
   "outputs": [],
   "source": [
    "#Balacing of data"
   ]
  },
  {
   "cell_type": "code",
   "execution_count": 37,
   "id": "93355f5f",
   "metadata": {},
   "outputs": [],
   "source": [
    "from imblearn.over_sampling import RandomOverSampler"
   ]
  },
  {
   "cell_type": "code",
   "execution_count": 38,
   "id": "40559585",
   "metadata": {},
   "outputs": [],
   "source": [
    "rdo = RandomOverSampler(sampling_strategy='minority')"
   ]
  },
  {
   "cell_type": "code",
   "execution_count": 39,
   "id": "3aa7329e",
   "metadata": {},
   "outputs": [],
   "source": [
    "upsamp_x,upsamp_y = rdo.fit_resample(x,y)"
   ]
  },
  {
   "cell_type": "code",
   "execution_count": 40,
   "id": "89f6f083",
   "metadata": {},
   "outputs": [
    {
     "data": {
      "text/plain": [
       "(7936, 17)"
      ]
     },
     "execution_count": 40,
     "metadata": {},
     "output_type": "execute_result"
    }
   ],
   "source": [
    "upsamp_x.shape"
   ]
  },
  {
   "cell_type": "code",
   "execution_count": 41,
   "id": "3e76ff7f",
   "metadata": {},
   "outputs": [
    {
     "data": {
      "text/plain": [
       "(7936,)"
      ]
     },
     "execution_count": 41,
     "metadata": {},
     "output_type": "execute_result"
    }
   ],
   "source": [
    "upsamp_y.shape"
   ]
  },
  {
   "cell_type": "code",
   "execution_count": 42,
   "id": "2cc097b4",
   "metadata": {},
   "outputs": [
    {
     "data": {
      "text/html": [
       "<div>\n",
       "<style scoped>\n",
       "    .dataframe tbody tr th:only-of-type {\n",
       "        vertical-align: middle;\n",
       "    }\n",
       "\n",
       "    .dataframe tbody tr th {\n",
       "        vertical-align: top;\n",
       "    }\n",
       "\n",
       "    .dataframe thead th {\n",
       "        text-align: right;\n",
       "    }\n",
       "</style>\n",
       "<table border=\"1\" class=\"dataframe\">\n",
       "  <thead>\n",
       "    <tr style=\"text-align: right;\">\n",
       "      <th></th>\n",
       "      <th>Age</th>\n",
       "      <th>TypeofContact</th>\n",
       "      <th>CityTier</th>\n",
       "      <th>DurationOfPitch</th>\n",
       "      <th>Occupation</th>\n",
       "      <th>Gender</th>\n",
       "      <th>NumberOfFollowups</th>\n",
       "      <th>ProductPitched</th>\n",
       "      <th>PreferredPropertyStar</th>\n",
       "      <th>MaritalStatus</th>\n",
       "      <th>NumberOfTrips</th>\n",
       "      <th>Passport</th>\n",
       "      <th>PitchSatisfactionScore</th>\n",
       "      <th>OwnCar</th>\n",
       "      <th>Designation</th>\n",
       "      <th>MonthlyIncome</th>\n",
       "      <th>Total_visit</th>\n",
       "    </tr>\n",
       "  </thead>\n",
       "  <tbody>\n",
       "    <tr>\n",
       "      <th>0</th>\n",
       "      <td>41.0</td>\n",
       "      <td>Self Enquiry</td>\n",
       "      <td>3</td>\n",
       "      <td>6.0</td>\n",
       "      <td>Salaried</td>\n",
       "      <td>Female</td>\n",
       "      <td>3.0</td>\n",
       "      <td>Deluxe</td>\n",
       "      <td>3.0</td>\n",
       "      <td>Single</td>\n",
       "      <td>1.0</td>\n",
       "      <td>1</td>\n",
       "      <td>2</td>\n",
       "      <td>1</td>\n",
       "      <td>Manager</td>\n",
       "      <td>20993.0</td>\n",
       "      <td>3.0</td>\n",
       "    </tr>\n",
       "    <tr>\n",
       "      <th>1</th>\n",
       "      <td>49.0</td>\n",
       "      <td>Company Invited</td>\n",
       "      <td>1</td>\n",
       "      <td>14.0</td>\n",
       "      <td>Salaried</td>\n",
       "      <td>Male</td>\n",
       "      <td>4.0</td>\n",
       "      <td>Deluxe</td>\n",
       "      <td>4.0</td>\n",
       "      <td>Divorced</td>\n",
       "      <td>2.0</td>\n",
       "      <td>0</td>\n",
       "      <td>3</td>\n",
       "      <td>1</td>\n",
       "      <td>Manager</td>\n",
       "      <td>20130.0</td>\n",
       "      <td>5.0</td>\n",
       "    </tr>\n",
       "    <tr>\n",
       "      <th>2</th>\n",
       "      <td>37.0</td>\n",
       "      <td>Self Enquiry</td>\n",
       "      <td>1</td>\n",
       "      <td>8.0</td>\n",
       "      <td>Free Lancer</td>\n",
       "      <td>Male</td>\n",
       "      <td>4.0</td>\n",
       "      <td>Basic</td>\n",
       "      <td>3.0</td>\n",
       "      <td>Single</td>\n",
       "      <td>7.0</td>\n",
       "      <td>1</td>\n",
       "      <td>3</td>\n",
       "      <td>0</td>\n",
       "      <td>Executive</td>\n",
       "      <td>17090.0</td>\n",
       "      <td>3.0</td>\n",
       "    </tr>\n",
       "    <tr>\n",
       "      <th>3</th>\n",
       "      <td>33.0</td>\n",
       "      <td>Company Invited</td>\n",
       "      <td>1</td>\n",
       "      <td>9.0</td>\n",
       "      <td>Salaried</td>\n",
       "      <td>Female</td>\n",
       "      <td>3.0</td>\n",
       "      <td>Basic</td>\n",
       "      <td>3.0</td>\n",
       "      <td>Divorced</td>\n",
       "      <td>2.0</td>\n",
       "      <td>1</td>\n",
       "      <td>5</td>\n",
       "      <td>1</td>\n",
       "      <td>Executive</td>\n",
       "      <td>17909.0</td>\n",
       "      <td>3.0</td>\n",
       "    </tr>\n",
       "    <tr>\n",
       "      <th>4</th>\n",
       "      <td>36.0</td>\n",
       "      <td>Self Enquiry</td>\n",
       "      <td>1</td>\n",
       "      <td>8.0</td>\n",
       "      <td>Small Business</td>\n",
       "      <td>Male</td>\n",
       "      <td>3.0</td>\n",
       "      <td>Basic</td>\n",
       "      <td>4.0</td>\n",
       "      <td>Divorced</td>\n",
       "      <td>1.0</td>\n",
       "      <td>0</td>\n",
       "      <td>5</td>\n",
       "      <td>1</td>\n",
       "      <td>Executive</td>\n",
       "      <td>18468.0</td>\n",
       "      <td>2.0</td>\n",
       "    </tr>\n",
       "  </tbody>\n",
       "</table>\n",
       "</div>"
      ],
      "text/plain": [
       "    Age    TypeofContact  CityTier  DurationOfPitch      Occupation  Gender  \\\n",
       "0  41.0     Self Enquiry         3              6.0        Salaried  Female   \n",
       "1  49.0  Company Invited         1             14.0        Salaried    Male   \n",
       "2  37.0     Self Enquiry         1              8.0     Free Lancer    Male   \n",
       "3  33.0  Company Invited         1              9.0        Salaried  Female   \n",
       "4  36.0     Self Enquiry         1              8.0  Small Business    Male   \n",
       "\n",
       "   NumberOfFollowups ProductPitched  PreferredPropertyStar MaritalStatus  \\\n",
       "0                3.0         Deluxe                    3.0        Single   \n",
       "1                4.0         Deluxe                    4.0      Divorced   \n",
       "2                4.0          Basic                    3.0        Single   \n",
       "3                3.0          Basic                    3.0      Divorced   \n",
       "4                3.0          Basic                    4.0      Divorced   \n",
       "\n",
       "   NumberOfTrips  Passport  PitchSatisfactionScore  OwnCar Designation  \\\n",
       "0            1.0         1                       2       1     Manager   \n",
       "1            2.0         0                       3       1     Manager   \n",
       "2            7.0         1                       3       0   Executive   \n",
       "3            2.0         1                       5       1   Executive   \n",
       "4            1.0         0                       5       1   Executive   \n",
       "\n",
       "   MonthlyIncome  Total_visit  \n",
       "0        20993.0          3.0  \n",
       "1        20130.0          5.0  \n",
       "2        17090.0          3.0  \n",
       "3        17909.0          3.0  \n",
       "4        18468.0          2.0  "
      ]
     },
     "execution_count": 42,
     "metadata": {},
     "output_type": "execute_result"
    }
   ],
   "source": [
    "upsamp_x.head()"
   ]
  },
  {
   "cell_type": "code",
   "execution_count": 43,
   "id": "ea11cd4b",
   "metadata": {},
   "outputs": [],
   "source": [
    "from sklearn.preprocessing import OneHotEncoder,StandardScaler, MinMaxScaler\n",
    "from sklearn.compose import ColumnTransformer"
   ]
  },
  {
   "cell_type": "code",
   "execution_count": 44,
   "id": "555e0b77",
   "metadata": {},
   "outputs": [
    {
     "data": {
      "text/plain": [
       "Index(['Age', 'TypeofContact', 'CityTier', 'DurationOfPitch', 'Occupation',\n",
       "       'Gender', 'NumberOfFollowups', 'ProductPitched',\n",
       "       'PreferredPropertyStar', 'MaritalStatus', 'NumberOfTrips', 'Passport',\n",
       "       'PitchSatisfactionScore', 'OwnCar', 'Designation', 'MonthlyIncome',\n",
       "       'Total_visit'],\n",
       "      dtype='object')"
      ]
     },
     "execution_count": 44,
     "metadata": {},
     "output_type": "execute_result"
    }
   ],
   "source": [
    "upsamp_x.columns"
   ]
  },
  {
   "cell_type": "code",
   "execution_count": 45,
   "id": "56dae9af",
   "metadata": {},
   "outputs": [
    {
     "name": "stdout",
     "output_type": "stream",
     "text": [
      "<class 'pandas.core.frame.DataFrame'>\n",
      "RangeIndex: 7936 entries, 0 to 7935\n",
      "Data columns (total 17 columns):\n",
      " #   Column                  Non-Null Count  Dtype  \n",
      "---  ------                  --------------  -----  \n",
      " 0   Age                     7936 non-null   float64\n",
      " 1   TypeofContact           7936 non-null   object \n",
      " 2   CityTier                7936 non-null   int64  \n",
      " 3   DurationOfPitch         7936 non-null   float64\n",
      " 4   Occupation              7936 non-null   object \n",
      " 5   Gender                  7936 non-null   object \n",
      " 6   NumberOfFollowups       7936 non-null   float64\n",
      " 7   ProductPitched          7936 non-null   object \n",
      " 8   PreferredPropertyStar   7936 non-null   float64\n",
      " 9   MaritalStatus           7936 non-null   object \n",
      " 10  NumberOfTrips           7936 non-null   float64\n",
      " 11  Passport                7936 non-null   int64  \n",
      " 12  PitchSatisfactionScore  7936 non-null   int64  \n",
      " 13  OwnCar                  7936 non-null   int64  \n",
      " 14  Designation             7936 non-null   object \n",
      " 15  MonthlyIncome           7936 non-null   float64\n",
      " 16  Total_visit             7936 non-null   float64\n",
      "dtypes: float64(7), int64(4), object(6)\n",
      "memory usage: 1.0+ MB\n"
     ]
    }
   ],
   "source": [
    "upsamp_x.info()"
   ]
  },
  {
   "cell_type": "code",
   "execution_count": 46,
   "id": "24c0ae8f",
   "metadata": {},
   "outputs": [],
   "source": [
    "col_obj = upsamp_x.columns[upsamp_x.dtypes == 'object']\n",
    "col_num = upsamp_x.columns[upsamp_x.dtypes != 'object']"
   ]
  },
  {
   "cell_type": "code",
   "execution_count": 47,
   "id": "3cefef70",
   "metadata": {},
   "outputs": [
    {
     "data": {
      "text/plain": [
       "Index(['Age', 'CityTier', 'DurationOfPitch', 'NumberOfFollowups',\n",
       "       'PreferredPropertyStar', 'NumberOfTrips', 'Passport',\n",
       "       'PitchSatisfactionScore', 'OwnCar', 'MonthlyIncome', 'Total_visit'],\n",
       "      dtype='object')"
      ]
     },
     "execution_count": 47,
     "metadata": {},
     "output_type": "execute_result"
    }
   ],
   "source": [
    "col_num"
   ]
  },
  {
   "cell_type": "code",
   "execution_count": 48,
   "id": "bf7b6f2a",
   "metadata": {},
   "outputs": [
    {
     "name": "stdout",
     "output_type": "stream",
     "text": [
      "Index(['TypeofContact', 'Occupation', 'Gender', 'ProductPitched',\n",
      "       'MaritalStatus', 'Designation'],\n",
      "      dtype='object')\n"
     ]
    }
   ],
   "source": [
    "print(col_obj)"
   ]
  },
  {
   "cell_type": "code",
   "execution_count": 49,
   "id": "f07e4005",
   "metadata": {},
   "outputs": [],
   "source": [
    "for i in col_obj:\n",
    "    if i not in upsamp_x.columns:\n",
    "        print(f\"Column '{i}' not found in DataFrame.\")"
   ]
  },
  {
   "cell_type": "code",
   "execution_count": null,
   "id": "e36bc595",
   "metadata": {},
   "outputs": [],
   "source": [
    "#Converting Categorical data to numerical form"
   ]
  },
  {
   "cell_type": "code",
   "execution_count": 50,
   "id": "5261ff89",
   "metadata": {},
   "outputs": [],
   "source": [
    "upsamp_x = pd.get_dummies(upsamp_x, columns=['TypeofContact', 'Occupation', 'Gender', 'ProductPitched',\n",
    "       'MaritalStatus', 'Designation'])"
   ]
  },
  {
   "cell_type": "code",
   "execution_count": 51,
   "id": "84bf6427",
   "metadata": {},
   "outputs": [
    {
     "name": "stdout",
     "output_type": "stream",
     "text": [
      "<class 'pandas.core.frame.DataFrame'>\n",
      "RangeIndex: 7936 entries, 0 to 7935\n",
      "Data columns (total 32 columns):\n",
      " #   Column                         Non-Null Count  Dtype  \n",
      "---  ------                         --------------  -----  \n",
      " 0   Age                            7936 non-null   float64\n",
      " 1   CityTier                       7936 non-null   int64  \n",
      " 2   DurationOfPitch                7936 non-null   float64\n",
      " 3   NumberOfFollowups              7936 non-null   float64\n",
      " 4   PreferredPropertyStar          7936 non-null   float64\n",
      " 5   NumberOfTrips                  7936 non-null   float64\n",
      " 6   Passport                       7936 non-null   int64  \n",
      " 7   PitchSatisfactionScore         7936 non-null   int64  \n",
      " 8   OwnCar                         7936 non-null   int64  \n",
      " 9   MonthlyIncome                  7936 non-null   float64\n",
      " 10  Total_visit                    7936 non-null   float64\n",
      " 11  TypeofContact_Company Invited  7936 non-null   uint8  \n",
      " 12  TypeofContact_Self Enquiry     7936 non-null   uint8  \n",
      " 13  Occupation_Free Lancer         7936 non-null   uint8  \n",
      " 14  Occupation_Large Business      7936 non-null   uint8  \n",
      " 15  Occupation_Salaried            7936 non-null   uint8  \n",
      " 16  Occupation_Small Business      7936 non-null   uint8  \n",
      " 17  Gender_Female                  7936 non-null   uint8  \n",
      " 18  Gender_Male                    7936 non-null   uint8  \n",
      " 19  ProductPitched_Basic           7936 non-null   uint8  \n",
      " 20  ProductPitched_Deluxe          7936 non-null   uint8  \n",
      " 21  ProductPitched_King            7936 non-null   uint8  \n",
      " 22  ProductPitched_Standard        7936 non-null   uint8  \n",
      " 23  ProductPitched_Super Deluxe    7936 non-null   uint8  \n",
      " 24  MaritalStatus_Divorced         7936 non-null   uint8  \n",
      " 25  MaritalStatus_Married          7936 non-null   uint8  \n",
      " 26  MaritalStatus_Single           7936 non-null   uint8  \n",
      " 27  Designation_AVP                7936 non-null   uint8  \n",
      " 28  Designation_Executive          7936 non-null   uint8  \n",
      " 29  Designation_Manager            7936 non-null   uint8  \n",
      " 30  Designation_Senior Manager     7936 non-null   uint8  \n",
      " 31  Designation_VP                 7936 non-null   uint8  \n",
      "dtypes: float64(7), int64(4), uint8(21)\n",
      "memory usage: 844.9 KB\n"
     ]
    }
   ],
   "source": [
    "upsamp_x.info()"
   ]
  },
  {
   "cell_type": "code",
   "execution_count": 86,
   "id": "7cd867b2",
   "metadata": {},
   "outputs": [],
   "source": [
    "# After scaling, the features will be within the range [0, 1] (or another specified range)."
   ]
  },
  {
   "cell_type": "code",
   "execution_count": 52,
   "id": "0fbe052a",
   "metadata": {},
   "outputs": [],
   "source": [
    "upsamp_x1 = upsamp_x.copy()"
   ]
  },
  {
   "cell_type": "code",
   "execution_count": 53,
   "id": "95284eef",
   "metadata": {},
   "outputs": [],
   "source": [
    "num_upsam = ['Age', 'CityTier', 'DurationOfPitch', 'NumberOfFollowups',\n",
    "       'PreferredPropertyStar', 'NumberOfTrips', 'Passport',\n",
    "       'PitchSatisfactionScore', 'OwnCar', 'MonthlyIncome', 'Total_visit']"
   ]
  },
  {
   "cell_type": "code",
   "execution_count": 54,
   "id": "efeb2931",
   "metadata": {},
   "outputs": [],
   "source": [
    "norm = MinMaxScaler()"
   ]
  },
  {
   "cell_type": "code",
   "execution_count": 55,
   "id": "68a82425",
   "metadata": {},
   "outputs": [],
   "source": [
    "upsamp_x1[num_upsam] = norm.fit_transform(upsamp_x1[num_upsam])"
   ]
  },
  {
   "cell_type": "code",
   "execution_count": 56,
   "id": "513374a8",
   "metadata": {},
   "outputs": [
    {
     "data": {
      "text/html": [
       "<div>\n",
       "<style scoped>\n",
       "    .dataframe tbody tr th:only-of-type {\n",
       "        vertical-align: middle;\n",
       "    }\n",
       "\n",
       "    .dataframe tbody tr th {\n",
       "        vertical-align: top;\n",
       "    }\n",
       "\n",
       "    .dataframe thead th {\n",
       "        text-align: right;\n",
       "    }\n",
       "</style>\n",
       "<table border=\"1\" class=\"dataframe\">\n",
       "  <thead>\n",
       "    <tr style=\"text-align: right;\">\n",
       "      <th></th>\n",
       "      <th>Age</th>\n",
       "      <th>CityTier</th>\n",
       "      <th>DurationOfPitch</th>\n",
       "      <th>NumberOfFollowups</th>\n",
       "      <th>PreferredPropertyStar</th>\n",
       "      <th>NumberOfTrips</th>\n",
       "      <th>Passport</th>\n",
       "      <th>PitchSatisfactionScore</th>\n",
       "      <th>OwnCar</th>\n",
       "      <th>MonthlyIncome</th>\n",
       "      <th>...</th>\n",
       "      <th>ProductPitched_Standard</th>\n",
       "      <th>ProductPitched_Super Deluxe</th>\n",
       "      <th>MaritalStatus_Divorced</th>\n",
       "      <th>MaritalStatus_Married</th>\n",
       "      <th>MaritalStatus_Single</th>\n",
       "      <th>Designation_AVP</th>\n",
       "      <th>Designation_Executive</th>\n",
       "      <th>Designation_Manager</th>\n",
       "      <th>Designation_Senior Manager</th>\n",
       "      <th>Designation_VP</th>\n",
       "    </tr>\n",
       "  </thead>\n",
       "  <tbody>\n",
       "    <tr>\n",
       "      <th>0</th>\n",
       "      <td>0.534884</td>\n",
       "      <td>1.0</td>\n",
       "      <td>0.008197</td>\n",
       "      <td>0.4</td>\n",
       "      <td>0.0</td>\n",
       "      <td>0.000000</td>\n",
       "      <td>1.0</td>\n",
       "      <td>0.25</td>\n",
       "      <td>1.0</td>\n",
       "      <td>0.204683</td>\n",
       "      <td>...</td>\n",
       "      <td>0</td>\n",
       "      <td>0</td>\n",
       "      <td>0</td>\n",
       "      <td>0</td>\n",
       "      <td>1</td>\n",
       "      <td>0</td>\n",
       "      <td>0</td>\n",
       "      <td>1</td>\n",
       "      <td>0</td>\n",
       "      <td>0</td>\n",
       "    </tr>\n",
       "    <tr>\n",
       "      <th>1</th>\n",
       "      <td>0.720930</td>\n",
       "      <td>0.0</td>\n",
       "      <td>0.073770</td>\n",
       "      <td>0.6</td>\n",
       "      <td>0.5</td>\n",
       "      <td>0.047619</td>\n",
       "      <td>0.0</td>\n",
       "      <td>0.50</td>\n",
       "      <td>1.0</td>\n",
       "      <td>0.195848</td>\n",
       "      <td>...</td>\n",
       "      <td>0</td>\n",
       "      <td>0</td>\n",
       "      <td>1</td>\n",
       "      <td>0</td>\n",
       "      <td>0</td>\n",
       "      <td>0</td>\n",
       "      <td>0</td>\n",
       "      <td>1</td>\n",
       "      <td>0</td>\n",
       "      <td>0</td>\n",
       "    </tr>\n",
       "    <tr>\n",
       "      <th>2</th>\n",
       "      <td>0.441860</td>\n",
       "      <td>0.0</td>\n",
       "      <td>0.024590</td>\n",
       "      <td>0.6</td>\n",
       "      <td>0.0</td>\n",
       "      <td>0.285714</td>\n",
       "      <td>1.0</td>\n",
       "      <td>0.50</td>\n",
       "      <td>0.0</td>\n",
       "      <td>0.164725</td>\n",
       "      <td>...</td>\n",
       "      <td>0</td>\n",
       "      <td>0</td>\n",
       "      <td>0</td>\n",
       "      <td>0</td>\n",
       "      <td>1</td>\n",
       "      <td>0</td>\n",
       "      <td>1</td>\n",
       "      <td>0</td>\n",
       "      <td>0</td>\n",
       "      <td>0</td>\n",
       "    </tr>\n",
       "    <tr>\n",
       "      <th>3</th>\n",
       "      <td>0.348837</td>\n",
       "      <td>0.0</td>\n",
       "      <td>0.032787</td>\n",
       "      <td>0.4</td>\n",
       "      <td>0.0</td>\n",
       "      <td>0.047619</td>\n",
       "      <td>1.0</td>\n",
       "      <td>1.00</td>\n",
       "      <td>1.0</td>\n",
       "      <td>0.173110</td>\n",
       "      <td>...</td>\n",
       "      <td>0</td>\n",
       "      <td>0</td>\n",
       "      <td>1</td>\n",
       "      <td>0</td>\n",
       "      <td>0</td>\n",
       "      <td>0</td>\n",
       "      <td>1</td>\n",
       "      <td>0</td>\n",
       "      <td>0</td>\n",
       "      <td>0</td>\n",
       "    </tr>\n",
       "    <tr>\n",
       "      <th>4</th>\n",
       "      <td>0.418605</td>\n",
       "      <td>0.0</td>\n",
       "      <td>0.024590</td>\n",
       "      <td>0.4</td>\n",
       "      <td>0.5</td>\n",
       "      <td>0.000000</td>\n",
       "      <td>0.0</td>\n",
       "      <td>1.00</td>\n",
       "      <td>1.0</td>\n",
       "      <td>0.178832</td>\n",
       "      <td>...</td>\n",
       "      <td>0</td>\n",
       "      <td>0</td>\n",
       "      <td>1</td>\n",
       "      <td>0</td>\n",
       "      <td>0</td>\n",
       "      <td>0</td>\n",
       "      <td>1</td>\n",
       "      <td>0</td>\n",
       "      <td>0</td>\n",
       "      <td>0</td>\n",
       "    </tr>\n",
       "  </tbody>\n",
       "</table>\n",
       "<p>5 rows × 32 columns</p>\n",
       "</div>"
      ],
      "text/plain": [
       "        Age  CityTier  DurationOfPitch  NumberOfFollowups  \\\n",
       "0  0.534884       1.0         0.008197                0.4   \n",
       "1  0.720930       0.0         0.073770                0.6   \n",
       "2  0.441860       0.0         0.024590                0.6   \n",
       "3  0.348837       0.0         0.032787                0.4   \n",
       "4  0.418605       0.0         0.024590                0.4   \n",
       "\n",
       "   PreferredPropertyStar  NumberOfTrips  Passport  PitchSatisfactionScore  \\\n",
       "0                    0.0       0.000000       1.0                    0.25   \n",
       "1                    0.5       0.047619       0.0                    0.50   \n",
       "2                    0.0       0.285714       1.0                    0.50   \n",
       "3                    0.0       0.047619       1.0                    1.00   \n",
       "4                    0.5       0.000000       0.0                    1.00   \n",
       "\n",
       "   OwnCar  MonthlyIncome  ...  ProductPitched_Standard  \\\n",
       "0     1.0       0.204683  ...                        0   \n",
       "1     1.0       0.195848  ...                        0   \n",
       "2     0.0       0.164725  ...                        0   \n",
       "3     1.0       0.173110  ...                        0   \n",
       "4     1.0       0.178832  ...                        0   \n",
       "\n",
       "   ProductPitched_Super Deluxe  MaritalStatus_Divorced  MaritalStatus_Married  \\\n",
       "0                            0                       0                      0   \n",
       "1                            0                       1                      0   \n",
       "2                            0                       0                      0   \n",
       "3                            0                       1                      0   \n",
       "4                            0                       1                      0   \n",
       "\n",
       "   MaritalStatus_Single  Designation_AVP  Designation_Executive  \\\n",
       "0                     1                0                      0   \n",
       "1                     0                0                      0   \n",
       "2                     1                0                      1   \n",
       "3                     0                0                      1   \n",
       "4                     0                0                      1   \n",
       "\n",
       "   Designation_Manager  Designation_Senior Manager  Designation_VP  \n",
       "0                    1                           0               0  \n",
       "1                    1                           0               0  \n",
       "2                    0                           0               0  \n",
       "3                    0                           0               0  \n",
       "4                    0                           0               0  \n",
       "\n",
       "[5 rows x 32 columns]"
      ]
     },
     "execution_count": 56,
     "metadata": {},
     "output_type": "execute_result"
    }
   ],
   "source": [
    "upsamp_x1.head()"
   ]
  },
  {
   "cell_type": "code",
   "execution_count": null,
   "id": "5e249b4f",
   "metadata": {},
   "outputs": [],
   "source": [
    "# spliting data into test and train"
   ]
  },
  {
   "cell_type": "code",
   "execution_count": 57,
   "id": "ff42401b",
   "metadata": {},
   "outputs": [],
   "source": [
    "from sklearn.model_selection import train_test_split"
   ]
  },
  {
   "cell_type": "code",
   "execution_count": 58,
   "id": "996ad9f0",
   "metadata": {},
   "outputs": [],
   "source": [
    "x_train,x_test,y_train,y_test = train_test_split(upsamp_x1,upsamp_y)"
   ]
  },
  {
   "cell_type": "code",
   "execution_count": 59,
   "id": "746128e8",
   "metadata": {},
   "outputs": [
    {
     "name": "stdout",
     "output_type": "stream",
     "text": [
      "(5952, 32)\n",
      "(1984, 32)\n",
      "(5952,)\n",
      "(1984,)\n"
     ]
    }
   ],
   "source": [
    "print(x_train.shape, end='\\n')\n",
    "print(x_test.shape, end='\\n')\n",
    "print(y_train.shape, end='\\n')\n",
    "print(y_test.shape, end='\\n')"
   ]
  },
  {
   "cell_type": "code",
   "execution_count": 60,
   "id": "60c7faa7",
   "metadata": {},
   "outputs": [
    {
     "data": {
      "text/html": [
       "<div>\n",
       "<style scoped>\n",
       "    .dataframe tbody tr th:only-of-type {\n",
       "        vertical-align: middle;\n",
       "    }\n",
       "\n",
       "    .dataframe tbody tr th {\n",
       "        vertical-align: top;\n",
       "    }\n",
       "\n",
       "    .dataframe thead th {\n",
       "        text-align: right;\n",
       "    }\n",
       "</style>\n",
       "<table border=\"1\" class=\"dataframe\">\n",
       "  <thead>\n",
       "    <tr style=\"text-align: right;\">\n",
       "      <th></th>\n",
       "      <th>Age</th>\n",
       "      <th>CityTier</th>\n",
       "      <th>DurationOfPitch</th>\n",
       "      <th>NumberOfFollowups</th>\n",
       "      <th>PreferredPropertyStar</th>\n",
       "      <th>NumberOfTrips</th>\n",
       "      <th>Passport</th>\n",
       "      <th>PitchSatisfactionScore</th>\n",
       "      <th>OwnCar</th>\n",
       "      <th>MonthlyIncome</th>\n",
       "      <th>...</th>\n",
       "      <th>ProductPitched_Standard</th>\n",
       "      <th>ProductPitched_Super Deluxe</th>\n",
       "      <th>MaritalStatus_Divorced</th>\n",
       "      <th>MaritalStatus_Married</th>\n",
       "      <th>MaritalStatus_Single</th>\n",
       "      <th>Designation_AVP</th>\n",
       "      <th>Designation_Executive</th>\n",
       "      <th>Designation_Manager</th>\n",
       "      <th>Designation_Senior Manager</th>\n",
       "      <th>Designation_VP</th>\n",
       "    </tr>\n",
       "  </thead>\n",
       "  <tbody>\n",
       "    <tr>\n",
       "      <th>count</th>\n",
       "      <td>7936.000000</td>\n",
       "      <td>7936.000000</td>\n",
       "      <td>7936.000000</td>\n",
       "      <td>7936.000000</td>\n",
       "      <td>7936.000000</td>\n",
       "      <td>7936.000000</td>\n",
       "      <td>7936.000000</td>\n",
       "      <td>7936.000000</td>\n",
       "      <td>7936.000000</td>\n",
       "      <td>7936.000000</td>\n",
       "      <td>...</td>\n",
       "      <td>7936.000000</td>\n",
       "      <td>7936.000000</td>\n",
       "      <td>7936.000000</td>\n",
       "      <td>7936.000000</td>\n",
       "      <td>7936.000000</td>\n",
       "      <td>7936.000000</td>\n",
       "      <td>7936.000000</td>\n",
       "      <td>7936.000000</td>\n",
       "      <td>7936.000000</td>\n",
       "      <td>7936.000000</td>\n",
       "    </tr>\n",
       "    <tr>\n",
       "      <th>mean</th>\n",
       "      <td>0.430634</td>\n",
       "      <td>0.361013</td>\n",
       "      <td>0.088666</td>\n",
       "      <td>0.561089</td>\n",
       "      <td>0.316343</td>\n",
       "      <td>0.107875</td>\n",
       "      <td>0.384451</td>\n",
       "      <td>0.533770</td>\n",
       "      <td>0.610383</td>\n",
       "      <td>0.225603</td>\n",
       "      <td>...</td>\n",
       "      <td>0.144783</td>\n",
       "      <td>0.051159</td>\n",
       "      <td>0.168851</td>\n",
       "      <td>0.435358</td>\n",
       "      <td>0.395791</td>\n",
       "      <td>0.051159</td>\n",
       "      <td>0.461316</td>\n",
       "      <td>0.304688</td>\n",
       "      <td>0.144783</td>\n",
       "      <td>0.038054</td>\n",
       "    </tr>\n",
       "    <tr>\n",
       "      <th>std</th>\n",
       "      <td>0.219927</td>\n",
       "      <td>0.468772</td>\n",
       "      <td>0.067999</td>\n",
       "      <td>0.200310</td>\n",
       "      <td>0.410798</td>\n",
       "      <td>0.089988</td>\n",
       "      <td>0.486496</td>\n",
       "      <td>0.336772</td>\n",
       "      <td>0.487694</td>\n",
       "      <td>0.051495</td>\n",
       "      <td>...</td>\n",
       "      <td>0.351904</td>\n",
       "      <td>0.220336</td>\n",
       "      <td>0.374644</td>\n",
       "      <td>0.495835</td>\n",
       "      <td>0.489051</td>\n",
       "      <td>0.220336</td>\n",
       "      <td>0.498533</td>\n",
       "      <td>0.460304</td>\n",
       "      <td>0.351904</td>\n",
       "      <td>0.191340</td>\n",
       "    </tr>\n",
       "    <tr>\n",
       "      <th>min</th>\n",
       "      <td>0.000000</td>\n",
       "      <td>0.000000</td>\n",
       "      <td>0.000000</td>\n",
       "      <td>0.000000</td>\n",
       "      <td>0.000000</td>\n",
       "      <td>0.000000</td>\n",
       "      <td>0.000000</td>\n",
       "      <td>0.000000</td>\n",
       "      <td>0.000000</td>\n",
       "      <td>0.000000</td>\n",
       "      <td>...</td>\n",
       "      <td>0.000000</td>\n",
       "      <td>0.000000</td>\n",
       "      <td>0.000000</td>\n",
       "      <td>0.000000</td>\n",
       "      <td>0.000000</td>\n",
       "      <td>0.000000</td>\n",
       "      <td>0.000000</td>\n",
       "      <td>0.000000</td>\n",
       "      <td>0.000000</td>\n",
       "      <td>0.000000</td>\n",
       "    </tr>\n",
       "    <tr>\n",
       "      <th>25%</th>\n",
       "      <td>0.279070</td>\n",
       "      <td>0.000000</td>\n",
       "      <td>0.032787</td>\n",
       "      <td>0.400000</td>\n",
       "      <td>0.000000</td>\n",
       "      <td>0.047619</td>\n",
       "      <td>0.000000</td>\n",
       "      <td>0.250000</td>\n",
       "      <td>0.000000</td>\n",
       "      <td>0.195453</td>\n",
       "      <td>...</td>\n",
       "      <td>0.000000</td>\n",
       "      <td>0.000000</td>\n",
       "      <td>0.000000</td>\n",
       "      <td>0.000000</td>\n",
       "      <td>0.000000</td>\n",
       "      <td>0.000000</td>\n",
       "      <td>0.000000</td>\n",
       "      <td>0.000000</td>\n",
       "      <td>0.000000</td>\n",
       "      <td>0.000000</td>\n",
       "    </tr>\n",
       "    <tr>\n",
       "      <th>50%</th>\n",
       "      <td>0.418605</td>\n",
       "      <td>0.000000</td>\n",
       "      <td>0.065574</td>\n",
       "      <td>0.600000</td>\n",
       "      <td>0.000000</td>\n",
       "      <td>0.095238</td>\n",
       "      <td>0.000000</td>\n",
       "      <td>0.500000</td>\n",
       "      <td>1.000000</td>\n",
       "      <td>0.214291</td>\n",
       "      <td>...</td>\n",
       "      <td>0.000000</td>\n",
       "      <td>0.000000</td>\n",
       "      <td>0.000000</td>\n",
       "      <td>0.000000</td>\n",
       "      <td>0.000000</td>\n",
       "      <td>0.000000</td>\n",
       "      <td>0.000000</td>\n",
       "      <td>0.000000</td>\n",
       "      <td>0.000000</td>\n",
       "      <td>0.000000</td>\n",
       "    </tr>\n",
       "    <tr>\n",
       "      <th>75%</th>\n",
       "      <td>0.558140</td>\n",
       "      <td>1.000000</td>\n",
       "      <td>0.131148</td>\n",
       "      <td>0.600000</td>\n",
       "      <td>0.500000</td>\n",
       "      <td>0.142857</td>\n",
       "      <td>1.000000</td>\n",
       "      <td>0.750000</td>\n",
       "      <td>1.000000</td>\n",
       "      <td>0.244548</td>\n",
       "      <td>...</td>\n",
       "      <td>0.000000</td>\n",
       "      <td>0.000000</td>\n",
       "      <td>0.000000</td>\n",
       "      <td>1.000000</td>\n",
       "      <td>1.000000</td>\n",
       "      <td>0.000000</td>\n",
       "      <td>1.000000</td>\n",
       "      <td>1.000000</td>\n",
       "      <td>0.000000</td>\n",
       "      <td>0.000000</td>\n",
       "    </tr>\n",
       "    <tr>\n",
       "      <th>max</th>\n",
       "      <td>1.000000</td>\n",
       "      <td>1.000000</td>\n",
       "      <td>1.000000</td>\n",
       "      <td>1.000000</td>\n",
       "      <td>1.000000</td>\n",
       "      <td>1.000000</td>\n",
       "      <td>1.000000</td>\n",
       "      <td>1.000000</td>\n",
       "      <td>1.000000</td>\n",
       "      <td>1.000000</td>\n",
       "      <td>...</td>\n",
       "      <td>1.000000</td>\n",
       "      <td>1.000000</td>\n",
       "      <td>1.000000</td>\n",
       "      <td>1.000000</td>\n",
       "      <td>1.000000</td>\n",
       "      <td>1.000000</td>\n",
       "      <td>1.000000</td>\n",
       "      <td>1.000000</td>\n",
       "      <td>1.000000</td>\n",
       "      <td>1.000000</td>\n",
       "    </tr>\n",
       "  </tbody>\n",
       "</table>\n",
       "<p>8 rows × 32 columns</p>\n",
       "</div>"
      ],
      "text/plain": [
       "               Age     CityTier  DurationOfPitch  NumberOfFollowups  \\\n",
       "count  7936.000000  7936.000000      7936.000000        7936.000000   \n",
       "mean      0.430634     0.361013         0.088666           0.561089   \n",
       "std       0.219927     0.468772         0.067999           0.200310   \n",
       "min       0.000000     0.000000         0.000000           0.000000   \n",
       "25%       0.279070     0.000000         0.032787           0.400000   \n",
       "50%       0.418605     0.000000         0.065574           0.600000   \n",
       "75%       0.558140     1.000000         0.131148           0.600000   \n",
       "max       1.000000     1.000000         1.000000           1.000000   \n",
       "\n",
       "       PreferredPropertyStar  NumberOfTrips     Passport  \\\n",
       "count            7936.000000    7936.000000  7936.000000   \n",
       "mean                0.316343       0.107875     0.384451   \n",
       "std                 0.410798       0.089988     0.486496   \n",
       "min                 0.000000       0.000000     0.000000   \n",
       "25%                 0.000000       0.047619     0.000000   \n",
       "50%                 0.000000       0.095238     0.000000   \n",
       "75%                 0.500000       0.142857     1.000000   \n",
       "max                 1.000000       1.000000     1.000000   \n",
       "\n",
       "       PitchSatisfactionScore       OwnCar  MonthlyIncome  ...  \\\n",
       "count             7936.000000  7936.000000    7936.000000  ...   \n",
       "mean                 0.533770     0.610383       0.225603  ...   \n",
       "std                  0.336772     0.487694       0.051495  ...   \n",
       "min                  0.000000     0.000000       0.000000  ...   \n",
       "25%                  0.250000     0.000000       0.195453  ...   \n",
       "50%                  0.500000     1.000000       0.214291  ...   \n",
       "75%                  0.750000     1.000000       0.244548  ...   \n",
       "max                  1.000000     1.000000       1.000000  ...   \n",
       "\n",
       "       ProductPitched_Standard  ProductPitched_Super Deluxe  \\\n",
       "count              7936.000000                  7936.000000   \n",
       "mean                  0.144783                     0.051159   \n",
       "std                   0.351904                     0.220336   \n",
       "min                   0.000000                     0.000000   \n",
       "25%                   0.000000                     0.000000   \n",
       "50%                   0.000000                     0.000000   \n",
       "75%                   0.000000                     0.000000   \n",
       "max                   1.000000                     1.000000   \n",
       "\n",
       "       MaritalStatus_Divorced  MaritalStatus_Married  MaritalStatus_Single  \\\n",
       "count             7936.000000            7936.000000           7936.000000   \n",
       "mean                 0.168851               0.435358              0.395791   \n",
       "std                  0.374644               0.495835              0.489051   \n",
       "min                  0.000000               0.000000              0.000000   \n",
       "25%                  0.000000               0.000000              0.000000   \n",
       "50%                  0.000000               0.000000              0.000000   \n",
       "75%                  0.000000               1.000000              1.000000   \n",
       "max                  1.000000               1.000000              1.000000   \n",
       "\n",
       "       Designation_AVP  Designation_Executive  Designation_Manager  \\\n",
       "count      7936.000000            7936.000000          7936.000000   \n",
       "mean          0.051159               0.461316             0.304688   \n",
       "std           0.220336               0.498533             0.460304   \n",
       "min           0.000000               0.000000             0.000000   \n",
       "25%           0.000000               0.000000             0.000000   \n",
       "50%           0.000000               0.000000             0.000000   \n",
       "75%           0.000000               1.000000             1.000000   \n",
       "max           1.000000               1.000000             1.000000   \n",
       "\n",
       "       Designation_Senior Manager  Designation_VP  \n",
       "count                 7936.000000     7936.000000  \n",
       "mean                     0.144783        0.038054  \n",
       "std                      0.351904        0.191340  \n",
       "min                      0.000000        0.000000  \n",
       "25%                      0.000000        0.000000  \n",
       "50%                      0.000000        0.000000  \n",
       "75%                      0.000000        0.000000  \n",
       "max                      1.000000        1.000000  \n",
       "\n",
       "[8 rows x 32 columns]"
      ]
     },
     "execution_count": 60,
     "metadata": {},
     "output_type": "execute_result"
    }
   ],
   "source": [
    "upsamp_x1.describe()"
   ]
  },
  {
   "cell_type": "markdown",
   "id": "a7fad0d2",
   "metadata": {},
   "source": [
    "# Feature Selection"
   ]
  },
  {
   "cell_type": "markdown",
   "id": "6c31bec3",
   "metadata": {},
   "source": [
    "Univariant selection"
   ]
  },
  {
   "cell_type": "code",
   "execution_count": 61,
   "id": "0b775936",
   "metadata": {},
   "outputs": [],
   "source": [
    "from sklearn.feature_selection import SelectKBest,chi2"
   ]
  },
  {
   "cell_type": "code",
   "execution_count": 62,
   "id": "201ae1bb",
   "metadata": {},
   "outputs": [],
   "source": [
    "skb = SelectKBest(score_func= chi2,k=20)"
   ]
  },
  {
   "cell_type": "code",
   "execution_count": 63,
   "id": "8ac7ea24",
   "metadata": {},
   "outputs": [
    {
     "data": {
      "text/plain": [
       "SelectKBest(k=20, score_func=<function chi2 at 0x0000023ADACD4550>)"
      ]
     },
     "execution_count": 63,
     "metadata": {},
     "output_type": "execute_result"
    }
   ],
   "source": [
    "skb.fit(upsamp_x1,upsamp_y)"
   ]
  },
  {
   "cell_type": "code",
   "execution_count": 64,
   "id": "e7f7b11a",
   "metadata": {},
   "outputs": [],
   "source": [
    "from numpy import printoptions"
   ]
  },
  {
   "cell_type": "code",
   "execution_count": 65,
   "id": "6aac5c7a",
   "metadata": {},
   "outputs": [
    {
     "data": {
      "text/plain": [
       "array([2.74697265e+01, 6.18642234e+01, 3.47871274e+00, 1.23812073e+01,\n",
       "       5.37965545e+01, 4.67237735e-01, 4.68051459e+02, 7.64872521e+00,\n",
       "       2.06440958e+00, 2.61870189e+00, 1.88681415e-01, 2.03723884e+01,\n",
       "       9.04986351e+00, 7.00000000e+00, 3.85273632e+01, 9.09129968e+00,\n",
       "       2.94031167e-04, 5.92061460e+00, 3.84372402e+00, 3.19191751e+02,\n",
       "       1.68339123e+02, 4.61059603e+01, 6.58746736e+00, 1.39517241e+02,\n",
       "       7.26447761e+01, 9.50301013e+01, 2.49355301e+02, 1.39517241e+02,\n",
       "       3.19191751e+02, 1.68339123e+02, 6.58746736e+00, 4.61059603e+01])"
      ]
     },
     "execution_count": 65,
     "metadata": {},
     "output_type": "execute_result"
    }
   ],
   "source": [
    "skb.scores_"
   ]
  },
  {
   "cell_type": "code",
   "execution_count": 66,
   "id": "194b4b35",
   "metadata": {},
   "outputs": [
    {
     "data": {
      "text/plain": [
       "Passport                         468.051459\n",
       "Designation_Executive            319.191751\n",
       "ProductPitched_Basic             319.191751\n",
       "MaritalStatus_Single             249.355301\n",
       "Designation_Manager              168.339123\n",
       "ProductPitched_Deluxe            168.339123\n",
       "Designation_AVP                  139.517241\n",
       "ProductPitched_Super Deluxe      139.517241\n",
       "MaritalStatus_Married             95.030101\n",
       "MaritalStatus_Divorced            72.644776\n",
       "CityTier                          61.864223\n",
       "PreferredPropertyStar             53.796554\n",
       "Designation_VP                    46.105960\n",
       "ProductPitched_King               46.105960\n",
       "Occupation_Large Business         38.527363\n",
       "Age                               27.469727\n",
       "TypeofContact_Company Invited     20.372388\n",
       "NumberOfFollowups                 12.381207\n",
       "Occupation_Salaried                9.091300\n",
       "TypeofContact_Self Enquiry         9.049864\n",
       "PitchSatisfactionScore             7.648725\n",
       "Occupation_Free Lancer             7.000000\n",
       "ProductPitched_Standard            6.587467\n",
       "Designation_Senior Manager         6.587467\n",
       "Gender_Female                      5.920615\n",
       "Gender_Male                        3.843724\n",
       "DurationOfPitch                    3.478713\n",
       "MonthlyIncome                      2.618702\n",
       "OwnCar                             2.064410\n",
       "NumberOfTrips                      0.467238\n",
       "Total_visit                        0.188681\n",
       "Occupation_Small Business          0.000294\n",
       "dtype: float64"
      ]
     },
     "execution_count": 66,
     "metadata": {},
     "output_type": "execute_result"
    }
   ],
   "source": [
    "pd.Series(skb.scores_, index=upsamp_x1.columns).sort_values(ascending=False)"
   ]
  },
  {
   "cell_type": "markdown",
   "id": "7c91f24a",
   "metadata": {},
   "source": [
    "Recursive Feature Elimination"
   ]
  },
  {
   "cell_type": "code",
   "execution_count": 67,
   "id": "87a00e62",
   "metadata": {},
   "outputs": [],
   "source": [
    "from sklearn.feature_selection import RFE\n",
    "from sklearn.linear_model import LogisticRegression"
   ]
  },
  {
   "cell_type": "code",
   "execution_count": 68,
   "id": "5f0cc403",
   "metadata": {},
   "outputs": [],
   "source": [
    "lr = LogisticRegression()"
   ]
  },
  {
   "cell_type": "code",
   "execution_count": 69,
   "id": "56385faf",
   "metadata": {},
   "outputs": [],
   "source": [
    "rfe = RFE(estimator= lr)"
   ]
  },
  {
   "cell_type": "code",
   "execution_count": 70,
   "id": "d26ccafc",
   "metadata": {},
   "outputs": [
    {
     "name": "stderr",
     "output_type": "stream",
     "text": [
      "C:\\Users\\VISHAL S PANCHANGE\\anaconda3\\lib\\site-packages\\sklearn\\linear_model\\_logistic.py:814: ConvergenceWarning: lbfgs failed to converge (status=1):\n",
      "STOP: TOTAL NO. of ITERATIONS REACHED LIMIT.\n",
      "\n",
      "Increase the number of iterations (max_iter) or scale the data as shown in:\n",
      "    https://scikit-learn.org/stable/modules/preprocessing.html\n",
      "Please also refer to the documentation for alternative solver options:\n",
      "    https://scikit-learn.org/stable/modules/linear_model.html#logistic-regression\n",
      "  n_iter_i = _check_optimize_result(\n",
      "C:\\Users\\VISHAL S PANCHANGE\\anaconda3\\lib\\site-packages\\sklearn\\linear_model\\_logistic.py:814: ConvergenceWarning: lbfgs failed to converge (status=1):\n",
      "STOP: TOTAL NO. of ITERATIONS REACHED LIMIT.\n",
      "\n",
      "Increase the number of iterations (max_iter) or scale the data as shown in:\n",
      "    https://scikit-learn.org/stable/modules/preprocessing.html\n",
      "Please also refer to the documentation for alternative solver options:\n",
      "    https://scikit-learn.org/stable/modules/linear_model.html#logistic-regression\n",
      "  n_iter_i = _check_optimize_result(\n",
      "C:\\Users\\VISHAL S PANCHANGE\\anaconda3\\lib\\site-packages\\sklearn\\linear_model\\_logistic.py:814: ConvergenceWarning: lbfgs failed to converge (status=1):\n",
      "STOP: TOTAL NO. of ITERATIONS REACHED LIMIT.\n",
      "\n",
      "Increase the number of iterations (max_iter) or scale the data as shown in:\n",
      "    https://scikit-learn.org/stable/modules/preprocessing.html\n",
      "Please also refer to the documentation for alternative solver options:\n",
      "    https://scikit-learn.org/stable/modules/linear_model.html#logistic-regression\n",
      "  n_iter_i = _check_optimize_result(\n",
      "C:\\Users\\VISHAL S PANCHANGE\\anaconda3\\lib\\site-packages\\sklearn\\linear_model\\_logistic.py:814: ConvergenceWarning: lbfgs failed to converge (status=1):\n",
      "STOP: TOTAL NO. of ITERATIONS REACHED LIMIT.\n",
      "\n",
      "Increase the number of iterations (max_iter) or scale the data as shown in:\n",
      "    https://scikit-learn.org/stable/modules/preprocessing.html\n",
      "Please also refer to the documentation for alternative solver options:\n",
      "    https://scikit-learn.org/stable/modules/linear_model.html#logistic-regression\n",
      "  n_iter_i = _check_optimize_result(\n",
      "C:\\Users\\VISHAL S PANCHANGE\\anaconda3\\lib\\site-packages\\sklearn\\linear_model\\_logistic.py:814: ConvergenceWarning: lbfgs failed to converge (status=1):\n",
      "STOP: TOTAL NO. of ITERATIONS REACHED LIMIT.\n",
      "\n",
      "Increase the number of iterations (max_iter) or scale the data as shown in:\n",
      "    https://scikit-learn.org/stable/modules/preprocessing.html\n",
      "Please also refer to the documentation for alternative solver options:\n",
      "    https://scikit-learn.org/stable/modules/linear_model.html#logistic-regression\n",
      "  n_iter_i = _check_optimize_result(\n",
      "C:\\Users\\VISHAL S PANCHANGE\\anaconda3\\lib\\site-packages\\sklearn\\linear_model\\_logistic.py:814: ConvergenceWarning: lbfgs failed to converge (status=1):\n",
      "STOP: TOTAL NO. of ITERATIONS REACHED LIMIT.\n",
      "\n",
      "Increase the number of iterations (max_iter) or scale the data as shown in:\n",
      "    https://scikit-learn.org/stable/modules/preprocessing.html\n",
      "Please also refer to the documentation for alternative solver options:\n",
      "    https://scikit-learn.org/stable/modules/linear_model.html#logistic-regression\n",
      "  n_iter_i = _check_optimize_result(\n",
      "C:\\Users\\VISHAL S PANCHANGE\\anaconda3\\lib\\site-packages\\sklearn\\linear_model\\_logistic.py:814: ConvergenceWarning: lbfgs failed to converge (status=1):\n",
      "STOP: TOTAL NO. of ITERATIONS REACHED LIMIT.\n",
      "\n",
      "Increase the number of iterations (max_iter) or scale the data as shown in:\n",
      "    https://scikit-learn.org/stable/modules/preprocessing.html\n",
      "Please also refer to the documentation for alternative solver options:\n",
      "    https://scikit-learn.org/stable/modules/linear_model.html#logistic-regression\n",
      "  n_iter_i = _check_optimize_result(\n",
      "C:\\Users\\VISHAL S PANCHANGE\\anaconda3\\lib\\site-packages\\sklearn\\linear_model\\_logistic.py:814: ConvergenceWarning: lbfgs failed to converge (status=1):\n",
      "STOP: TOTAL NO. of ITERATIONS REACHED LIMIT.\n",
      "\n",
      "Increase the number of iterations (max_iter) or scale the data as shown in:\n",
      "    https://scikit-learn.org/stable/modules/preprocessing.html\n",
      "Please also refer to the documentation for alternative solver options:\n",
      "    https://scikit-learn.org/stable/modules/linear_model.html#logistic-regression\n",
      "  n_iter_i = _check_optimize_result(\n",
      "C:\\Users\\VISHAL S PANCHANGE\\anaconda3\\lib\\site-packages\\sklearn\\linear_model\\_logistic.py:814: ConvergenceWarning: lbfgs failed to converge (status=1):\n",
      "STOP: TOTAL NO. of ITERATIONS REACHED LIMIT.\n",
      "\n",
      "Increase the number of iterations (max_iter) or scale the data as shown in:\n",
      "    https://scikit-learn.org/stable/modules/preprocessing.html\n",
      "Please also refer to the documentation for alternative solver options:\n",
      "    https://scikit-learn.org/stable/modules/linear_model.html#logistic-regression\n",
      "  n_iter_i = _check_optimize_result(\n",
      "C:\\Users\\VISHAL S PANCHANGE\\anaconda3\\lib\\site-packages\\sklearn\\linear_model\\_logistic.py:814: ConvergenceWarning: lbfgs failed to converge (status=1):\n",
      "STOP: TOTAL NO. of ITERATIONS REACHED LIMIT.\n",
      "\n",
      "Increase the number of iterations (max_iter) or scale the data as shown in:\n",
      "    https://scikit-learn.org/stable/modules/preprocessing.html\n",
      "Please also refer to the documentation for alternative solver options:\n",
      "    https://scikit-learn.org/stable/modules/linear_model.html#logistic-regression\n",
      "  n_iter_i = _check_optimize_result(\n"
     ]
    },
    {
     "data": {
      "text/plain": [
       "RFE(estimator=LogisticRegression())"
      ]
     },
     "execution_count": 70,
     "metadata": {},
     "output_type": "execute_result"
    }
   ],
   "source": [
    "rfe.fit(upsamp_x1,upsamp_y)"
   ]
  },
  {
   "cell_type": "code",
   "execution_count": 71,
   "id": "7b394f8b",
   "metadata": {},
   "outputs": [
    {
     "data": {
      "text/plain": [
       "array([ 3,  1,  1,  1,  1,  1,  1,  1, 15,  1,  1, 13,  6,  2, 12,  1,  1,\n",
       "        9, 14,  4, 10, 16,  5,  1,  7,  8,  1,  1,  1,  1, 11, 17])"
      ]
     },
     "execution_count": 71,
     "metadata": {},
     "output_type": "execute_result"
    }
   ],
   "source": [
    "rfe.ranking_\n"
   ]
  },
  {
   "cell_type": "code",
   "execution_count": 72,
   "id": "482ebc91",
   "metadata": {},
   "outputs": [
    {
     "data": {
      "text/plain": [
       "Occupation_Salaried               1\n",
       "MaritalStatus_Single              1\n",
       "Designation_AVP                   1\n",
       "Designation_Executive             1\n",
       "Total_visit                       1\n",
       "MonthlyIncome                     1\n",
       "ProductPitched_Super Deluxe       1\n",
       "Designation_Manager               1\n",
       "Passport                          1\n",
       "NumberOfTrips                     1\n",
       "PreferredPropertyStar             1\n",
       "NumberOfFollowups                 1\n",
       "DurationOfPitch                   1\n",
       "CityTier                          1\n",
       "PitchSatisfactionScore            1\n",
       "Occupation_Small Business         1\n",
       "Occupation_Free Lancer            2\n",
       "Age                               3\n",
       "ProductPitched_Basic              4\n",
       "ProductPitched_Standard           5\n",
       "TypeofContact_Self Enquiry        6\n",
       "MaritalStatus_Divorced            7\n",
       "MaritalStatus_Married             8\n",
       "Gender_Female                     9\n",
       "ProductPitched_Deluxe            10\n",
       "Designation_Senior Manager       11\n",
       "Occupation_Large Business        12\n",
       "TypeofContact_Company Invited    13\n",
       "Gender_Male                      14\n",
       "OwnCar                           15\n",
       "ProductPitched_King              16\n",
       "Designation_VP                   17\n",
       "dtype: int32"
      ]
     },
     "execution_count": 72,
     "metadata": {},
     "output_type": "execute_result"
    }
   ],
   "source": [
    "pd.Series(data = rfe.ranking_,index = upsamp_x1.columns).sort_values(ascending = True)"
   ]
  },
  {
   "cell_type": "markdown",
   "id": "250c058c",
   "metadata": {},
   "source": [
    "Tree Based Selection"
   ]
  },
  {
   "cell_type": "code",
   "execution_count": 73,
   "id": "ee3439e4",
   "metadata": {},
   "outputs": [],
   "source": [
    "from sklearn.tree import DecisionTreeClassifier"
   ]
  },
  {
   "cell_type": "code",
   "execution_count": 74,
   "id": "63a3b37d",
   "metadata": {},
   "outputs": [],
   "source": [
    "dc = DecisionTreeClassifier()"
   ]
  },
  {
   "cell_type": "code",
   "execution_count": 75,
   "id": "4b827027",
   "metadata": {},
   "outputs": [
    {
     "data": {
      "text/plain": [
       "DecisionTreeClassifier()"
      ]
     },
     "execution_count": 75,
     "metadata": {},
     "output_type": "execute_result"
    }
   ],
   "source": [
    "dc.fit(upsamp_x1,upsamp_y)"
   ]
  },
  {
   "cell_type": "code",
   "execution_count": 76,
   "id": "a44ce478",
   "metadata": {},
   "outputs": [
    {
     "data": {
      "text/plain": [
       "array([0.12238407, 0.05213743, 0.13439208, 0.03881555, 0.06940367,\n",
       "       0.06263271, 0.09581401, 0.06121636, 0.01406722, 0.07939027,\n",
       "       0.02125172, 0.01215559, 0.02191141, 0.        , 0.00690574,\n",
       "       0.01390164, 0.01277689, 0.01763454, 0.00655943, 0.00228328,\n",
       "       0.01686338, 0.00115498, 0.00450816, 0.0044935 , 0.00043323,\n",
       "       0.00058641, 0.04202438, 0.00513959, 0.06514495, 0.00851646,\n",
       "       0.00550138, 0.        ])"
      ]
     },
     "execution_count": 76,
     "metadata": {},
     "output_type": "execute_result"
    }
   ],
   "source": [
    "dc.feature_importances_"
   ]
  },
  {
   "cell_type": "code",
   "execution_count": 77,
   "id": "2aa4498a",
   "metadata": {},
   "outputs": [
    {
     "data": {
      "text/plain": [
       "DurationOfPitch                  0.134392\n",
       "Age                              0.122384\n",
       "Passport                         0.095814\n",
       "MonthlyIncome                    0.079390\n",
       "PreferredPropertyStar            0.069404\n",
       "Designation_Executive            0.065145\n",
       "NumberOfTrips                    0.062633\n",
       "PitchSatisfactionScore           0.061216\n",
       "CityTier                         0.052137\n",
       "MaritalStatus_Single             0.042024\n",
       "NumberOfFollowups                0.038816\n",
       "TypeofContact_Self Enquiry       0.021911\n",
       "Total_visit                      0.021252\n",
       "Gender_Female                    0.017635\n",
       "ProductPitched_Deluxe            0.016863\n",
       "OwnCar                           0.014067\n",
       "Occupation_Salaried              0.013902\n",
       "Occupation_Small Business        0.012777\n",
       "TypeofContact_Company Invited    0.012156\n",
       "Designation_Manager              0.008516\n",
       "Occupation_Large Business        0.006906\n",
       "Gender_Male                      0.006559\n",
       "Designation_Senior Manager       0.005501\n",
       "Designation_AVP                  0.005140\n",
       "ProductPitched_Standard          0.004508\n",
       "ProductPitched_Super Deluxe      0.004493\n",
       "ProductPitched_Basic             0.002283\n",
       "ProductPitched_King              0.001155\n",
       "MaritalStatus_Married            0.000586\n",
       "MaritalStatus_Divorced           0.000433\n",
       "Occupation_Free Lancer           0.000000\n",
       "Designation_VP                   0.000000\n",
       "dtype: float64"
      ]
     },
     "execution_count": 77,
     "metadata": {},
     "output_type": "execute_result"
    }
   ],
   "source": [
    "pd.Series(data = dc.feature_importances_, index= upsamp_x1.columns).sort_values(ascending = False)"
   ]
  },
  {
   "cell_type": "markdown",
   "id": "bffbac4b",
   "metadata": {},
   "source": [
    "# Model Building"
   ]
  },
  {
   "cell_type": "code",
   "execution_count": 78,
   "id": "c5d764a5",
   "metadata": {},
   "outputs": [],
   "source": [
    "from sklearn.linear_model import LogisticRegression\n",
    "from sklearn.tree import DecisionTreeClassifier\n",
    "from sklearn.ensemble import RandomForestClassifier, AdaBoostClassifier, GradientBoostingClassifier\n",
    "import xgboost as xgb\n",
    "from sklearn.metrics import accuracy_score, classification_report, confusion_matrix, precision_score, recall_score, f1_score, roc_auc_score"
   ]
  },
  {
   "cell_type": "code",
   "execution_count": 79,
   "id": "81d7ff3a",
   "metadata": {},
   "outputs": [],
   "source": [
    "models = [\n",
    "    DecisionTreeClassifier(criterion='gini'),\n",
    "    RandomForestClassifier(n_estimators=100, bootstrap=True),\n",
    "    AdaBoostClassifier(base_estimator=LogisticRegression(), n_estimators=50),\n",
    "    GradientBoostingClassifier(loss='exponential', learning_rate=0.3, n_estimators=150, subsample=0.5),\n",
    "    xgb.XGBClassifier(n_estimators=100, max_depth=3, learning_rate=0.3, subsample=1, min_child_weight=2)\n",
    "]"
   ]
  },
  {
   "cell_type": "code",
   "execution_count": 80,
   "id": "c145fba6",
   "metadata": {},
   "outputs": [
    {
     "name": "stdout",
     "output_type": "stream",
     "text": [
      "********************************DecisionTreeClassifier() Performance********************************\n",
      "The Accuracy of DecisionTreeClassifier() : 0.9707661290322581\n",
      "Confusion Matrix\n",
      "[[937  54]\n",
      " [  4 989]]\n",
      "Classfication Report\n",
      "              precision    recall  f1-score   support\n",
      "\n",
      "           0       1.00      0.95      0.97       991\n",
      "           1       0.95      1.00      0.97       993\n",
      "\n",
      "    accuracy                           0.97      1984\n",
      "   macro avg       0.97      0.97      0.97      1984\n",
      "weighted avg       0.97      0.97      0.97      1984\n",
      "\n",
      "\n",
      "The Precision score of DecisionTreeClassifier() : 0.9482262703739214\n",
      "The Recall Score of DecisionTreeClassifier() : 0.9959718026183283\n",
      "The F1 Score of DecisionTreeClassifier() : 0.9715127701375246\n",
      "The Roc Auc score of DecisionTreeClassifier() : 0.9707406944474083\n",
      "\n",
      "\n",
      "********************************RandomForestClassifier() Performance********************************\n",
      "The Accuracy of RandomForestClassifier() : 0.9949596774193549\n",
      "Confusion Matrix\n",
      "[[981  10]\n",
      " [  0 993]]\n",
      "Classfication Report\n",
      "              precision    recall  f1-score   support\n",
      "\n",
      "           0       1.00      0.99      0.99       991\n",
      "           1       0.99      1.00      0.99       993\n",
      "\n",
      "    accuracy                           0.99      1984\n",
      "   macro avg       1.00      0.99      0.99      1984\n",
      "weighted avg       1.00      0.99      0.99      1984\n",
      "\n",
      "\n",
      "The Precision score of RandomForestClassifier() : 0.9900299102691924\n",
      "The Recall Score of RandomForestClassifier() : 1.0\n",
      "The F1 Score of RandomForestClassifier() : 0.9949899799599199\n",
      "The Roc Auc score of RandomForestClassifier() : 0.994954591321897\n",
      "\n",
      "\n",
      "****************AdaBoostClassifier(base_estimator=LogisticRegression()) Performance*****************\n",
      "The Accuracy of AdaBoostClassifier(base_estimator=LogisticRegression()) : 0.7379032258064516\n",
      "Confusion Matrix\n",
      "[[724 267]\n",
      " [253 740]]\n",
      "Classfication Report\n",
      "              precision    recall  f1-score   support\n",
      "\n",
      "           0       0.74      0.73      0.74       991\n",
      "           1       0.73      0.75      0.74       993\n",
      "\n",
      "    accuracy                           0.74      1984\n",
      "   macro avg       0.74      0.74      0.74      1984\n",
      "weighted avg       0.74      0.74      0.74      1984\n",
      "\n",
      "\n",
      "The Precision score of AdaBoostClassifier(base_estimator=LogisticRegression()) : 0.7348560079443893\n",
      "The Recall Score of AdaBoostClassifier(base_estimator=LogisticRegression()) : 0.7452165156092648\n",
      "The F1 Score of AdaBoostClassifier(base_estimator=LogisticRegression()) : 0.74\n",
      "The Roc Auc score of AdaBoostClassifier(base_estimator=LogisticRegression()) : 0.7378958460992842\n",
      "\n",
      "\n",
      "GradientBoostingClassifier(learning_rate=0.3, loss='exponential',\n",
      "                           n_estimators=150, subsample=0.5) Performance\n",
      "The Accuracy of GradientBoostingClassifier(learning_rate=0.3, loss='exponential',\n",
      "                           n_estimators=150, subsample=0.5) : 0.9002016129032258\n",
      "Confusion Matrix\n",
      "[[886 105]\n",
      " [ 93 900]]\n",
      "Classfication Report\n",
      "              precision    recall  f1-score   support\n",
      "\n",
      "           0       0.91      0.89      0.90       991\n",
      "           1       0.90      0.91      0.90       993\n",
      "\n",
      "    accuracy                           0.90      1984\n",
      "   macro avg       0.90      0.90      0.90      1984\n",
      "weighted avg       0.90      0.90      0.90      1984\n",
      "\n",
      "\n",
      "The Precision score of GradientBoostingClassifier(learning_rate=0.3, loss='exponential',\n",
      "                           n_estimators=150, subsample=0.5) : 0.8955223880597015\n",
      "The Recall Score of GradientBoostingClassifier(learning_rate=0.3, loss='exponential',\n",
      "                           n_estimators=150, subsample=0.5) : 0.9063444108761329\n",
      "The F1 Score of GradientBoostingClassifier(learning_rate=0.3, loss='exponential',\n",
      "                           n_estimators=150, subsample=0.5) : 0.900900900900901\n",
      "The Roc Auc score of GradientBoostingClassifier(learning_rate=0.3, loss='exponential',\n",
      "                           n_estimators=150, subsample=0.5) : 0.9001954143179857\n",
      "\n",
      "\n",
      "XGBClassifier(base_score=None, booster=None, callbacks=None,\n",
      "              colsample_bylevel=None, colsample_bynode=None,\n",
      "              colsample_bytree=None, early_stopping_rounds=None,\n",
      "              enable_categorical=False, eval_metric=None, feature_types=None,\n",
      "              gamma=None, gpu_id=None, grow_policy=None, importance_type=None,\n",
      "              interaction_constraints=None, learning_rate=0.3, max_bin=None,\n",
      "              max_cat_threshold=None, max_cat_to_onehot=None,\n",
      "              max_delta_step=None, max_depth=3, max_leaves=None,\n",
      "              min_child_weight=2, missing=nan, monotone_constraints=None,\n",
      "              n_estimators=100, n_jobs=None, num_parallel_tree=None,\n",
      "              predictor=None, random_state=None, ...) Performance\n",
      "The Accuracy of XGBClassifier(base_score=None, booster=None, callbacks=None,\n",
      "              colsample_bylevel=None, colsample_bynode=None,\n",
      "              colsample_bytree=None, early_stopping_rounds=None,\n",
      "              enable_categorical=False, eval_metric=None, feature_types=None,\n",
      "              gamma=None, gpu_id=None, grow_policy=None, importance_type=None,\n",
      "              interaction_constraints=None, learning_rate=0.3, max_bin=None,\n",
      "              max_cat_threshold=None, max_cat_to_onehot=None,\n",
      "              max_delta_step=None, max_depth=3, max_leaves=None,\n",
      "              min_child_weight=2, missing=nan, monotone_constraints=None,\n",
      "              n_estimators=100, n_jobs=None, num_parallel_tree=None,\n",
      "              predictor=None, random_state=None, ...) : 0.8795362903225806\n",
      "Confusion Matrix\n",
      "[[874 117]\n",
      " [122 871]]\n",
      "Classfication Report\n",
      "              precision    recall  f1-score   support\n",
      "\n",
      "           0       0.88      0.88      0.88       991\n",
      "           1       0.88      0.88      0.88       993\n",
      "\n",
      "    accuracy                           0.88      1984\n",
      "   macro avg       0.88      0.88      0.88      1984\n",
      "weighted avg       0.88      0.88      0.88      1984\n",
      "\n",
      "\n",
      "The Precision score of XGBClassifier(base_score=None, booster=None, callbacks=None,\n",
      "              colsample_bylevel=None, colsample_bynode=None,\n",
      "              colsample_bytree=None, early_stopping_rounds=None,\n",
      "              enable_categorical=False, eval_metric=None, feature_types=None,\n",
      "              gamma=None, gpu_id=None, grow_policy=None, importance_type=None,\n",
      "              interaction_constraints=None, learning_rate=0.3, max_bin=None,\n",
      "              max_cat_threshold=None, max_cat_to_onehot=None,\n",
      "              max_delta_step=None, max_depth=3, max_leaves=None,\n",
      "              min_child_weight=2, missing=nan, monotone_constraints=None,\n",
      "              n_estimators=100, n_jobs=None, num_parallel_tree=None,\n",
      "              predictor=None, random_state=None, ...) : 0.881578947368421\n",
      "The Recall Score of XGBClassifier(base_score=None, booster=None, callbacks=None,\n",
      "              colsample_bylevel=None, colsample_bynode=None,\n",
      "              colsample_bytree=None, early_stopping_rounds=None,\n",
      "              enable_categorical=False, eval_metric=None, feature_types=None,\n",
      "              gamma=None, gpu_id=None, grow_policy=None, importance_type=None,\n",
      "              interaction_constraints=None, learning_rate=0.3, max_bin=None,\n",
      "              max_cat_threshold=None, max_cat_to_onehot=None,\n",
      "              max_delta_step=None, max_depth=3, max_leaves=None,\n",
      "              min_child_weight=2, missing=nan, monotone_constraints=None,\n",
      "              n_estimators=100, n_jobs=None, num_parallel_tree=None,\n",
      "              predictor=None, random_state=None, ...) : 0.877139979859013\n",
      "The F1 Score of XGBClassifier(base_score=None, booster=None, callbacks=None,\n",
      "              colsample_bylevel=None, colsample_bynode=None,\n",
      "              colsample_bytree=None, early_stopping_rounds=None,\n",
      "              enable_categorical=False, eval_metric=None, feature_types=None,\n",
      "              gamma=None, gpu_id=None, grow_policy=None, importance_type=None,\n",
      "              interaction_constraints=None, learning_rate=0.3, max_bin=None,\n",
      "              max_cat_threshold=None, max_cat_to_onehot=None,\n",
      "              max_delta_step=None, max_depth=3, max_leaves=None,\n",
      "              min_child_weight=2, missing=nan, monotone_constraints=None,\n",
      "              n_estimators=100, n_jobs=None, num_parallel_tree=None,\n",
      "              predictor=None, random_state=None, ...) : 0.8793538616860171\n",
      "The Roc Auc score of XGBClassifier(base_score=None, booster=None, callbacks=None,\n",
      "              colsample_bylevel=None, colsample_bynode=None,\n",
      "              colsample_bytree=None, early_stopping_rounds=None,\n",
      "              enable_categorical=False, eval_metric=None, feature_types=None,\n",
      "              gamma=None, gpu_id=None, grow_policy=None, importance_type=None,\n",
      "              interaction_constraints=None, learning_rate=0.3, max_bin=None,\n",
      "              max_cat_threshold=None, max_cat_to_onehot=None,\n",
      "              max_delta_step=None, max_depth=3, max_leaves=None,\n",
      "              min_child_weight=2, missing=nan, monotone_constraints=None,\n",
      "              n_estimators=100, n_jobs=None, num_parallel_tree=None,\n",
      "              predictor=None, random_state=None, ...) : 0.8795387083957024\n",
      "\n",
      "\n"
     ]
    }
   ],
   "source": [
    "for i  in range (len(models)):\n",
    "    model = models[i]\n",
    "    model.fit(x_train,y_train)\n",
    "    y_pred = model.predict(x_test)\n",
    "    \n",
    "    acc_score = accuracy_score(y_test, y_pred)\n",
    "    report = classification_report(y_test,y_pred)\n",
    "    confusion = confusion_matrix(y_test, y_pred)\n",
    "    prec_score = precision_score(y_test, y_pred)\n",
    "    rec_score = recall_score(y_test,y_pred)\n",
    "    f_score = f1_score(y_test,y_pred)\n",
    "    r_a_score = roc_auc_score(y_test, y_pred)\n",
    "    \n",
    "    \n",
    "    print(f'{model} Performance'.center(100,'*'))\n",
    "    print(f'The Accuracy of {model} : {acc_score}',end='\\n')\n",
    "    print('Confusion Matrix')\n",
    "    print(confusion)\n",
    "    print('Classfication Report')\n",
    "    print(report, end='\\n\\n')\n",
    "    print(f'The Precision score of {model} : {prec_score}',end='\\n')\n",
    "    print(f'The Recall Score of {model} : {rec_score}',end='\\n')\n",
    "    print(f'The F1 Score of {model} : {f_score}',end='\\n')\n",
    "    print(f'The Roc Auc score of {model} : {r_a_score}',end='\\n\\n\\n')"
   ]
  },
  {
   "cell_type": "code",
   "execution_count": 81,
   "id": "6c4e8e32",
   "metadata": {},
   "outputs": [
    {
     "name": "stdout",
     "output_type": "stream",
     "text": [
      "Fitting 5 folds for each of 10 candidates, totalling 50 fits\n"
     ]
    },
    {
     "data": {
      "text/plain": [
       "RandomizedSearchCV(cv=5, estimator=RandomForestClassifier(), n_jobs=-1,\n",
       "                   param_distributions={'max_depth': [5, 8, 15, None, 10],\n",
       "                                        'max_features': [5, 7, 'auto', 8],\n",
       "                                        'min_samples_split': [2, 8, 15, 20],\n",
       "                                        'n_estimators': [100, 200, 500, 1000]},\n",
       "                   verbose=2)"
      ]
     },
     "execution_count": 81,
     "metadata": {},
     "output_type": "execute_result"
    }
   ],
   "source": [
    "from sklearn.model_selection import RandomizedSearchCV\n",
    "\n",
    "rf_params = {\n",
    "    \"max_depth\":[5,8,15,None,10],\n",
    "    \"max_features\":[5,7,\"auto\",8],\n",
    "    \"min_samples_split\":[2,8,15,20],\n",
    "    \"n_estimators\":[100,200,500,1000]\n",
    "}\n",
    "\n",
    "tuned_model = RandomizedSearchCV(estimator=RandomForestClassifier(),param_distributions=rf_params,cv=5,verbose=2,n_jobs=-1)\n",
    "tuned_model.fit(x_train,y_train)"
   ]
  },
  {
   "cell_type": "code",
   "execution_count": 82,
   "id": "5c0472d9",
   "metadata": {},
   "outputs": [
    {
     "name": "stdout",
     "output_type": "stream",
     "text": [
      "Best Parameters of the Tuned Model : {'n_estimators': 100, 'min_samples_split': 8, 'max_features': 5, 'max_depth': None}\n"
     ]
    }
   ],
   "source": [
    "print(f'Best Parameters of the Tuned Model : {tuned_model.best_params_}')"
   ]
  },
  {
   "cell_type": "code",
   "execution_count": 83,
   "id": "4739a652",
   "metadata": {},
   "outputs": [],
   "source": [
    "y_pred_tuned = tuned_model.predict(x_test)"
   ]
  },
  {
   "cell_type": "code",
   "execution_count": 84,
   "id": "8d186e9d",
   "metadata": {},
   "outputs": [
    {
     "name": "stdout",
     "output_type": "stream",
     "text": [
      "**************************************Tuned Model Performance***************************************\n",
      "The Accuracy of Tuned Model : 0.9873991935483871\n",
      "Confusion Matrix\n",
      "[[968  23]\n",
      " [  2 991]]\n",
      "\n",
      "Classfication Report\n",
      "              precision    recall  f1-score   support\n",
      "\n",
      "           0       1.00      0.98      0.99       991\n",
      "           1       0.98      1.00      0.99       993\n",
      "\n",
      "    accuracy                           0.99      1984\n",
      "   macro avg       0.99      0.99      0.99      1984\n",
      "weighted avg       0.99      0.99      0.99      1984\n",
      "\n",
      "\n",
      "The Precision score of Tuned Model : 0.9773175542406312\n",
      "The Recall Score of Tuned Model : 0.9979859013091642\n",
      "The F1 Score of Tuned Model : 0.9875435974090682\n",
      "The Roc Auc score of Tuned Model : 0.9873885106949454\n",
      "\n",
      "\n"
     ]
    }
   ],
   "source": [
    "#Evaluating the tuned model\n",
    "print(f'Tuned Model Performance'.center(100,'*'))\n",
    "print(f'The Accuracy of Tuned Model : {accuracy_score(y_test,y_pred_tuned)}',end='\\n')\n",
    "print('Confusion Matrix')\n",
    "print(confusion_matrix(y_test,y_pred_tuned),end='\\n\\n')\n",
    "print('Classfication Report')\n",
    "print(classification_report(y_test,y_pred_tuned), end='\\n\\n')\n",
    "print(f'The Precision score of Tuned Model : {precision_score(y_test,y_pred_tuned)}',end='\\n')\n",
    "print(f'The Recall Score of Tuned Model : {recall_score(y_test,y_pred_tuned)}',end='\\n')\n",
    "print(f'The F1 Score of Tuned Model : {f1_score(y_test,y_pred_tuned)}',end='\\n')\n",
    "print(f'The Roc Auc score of Tuned Model : {roc_auc_score(y_test,y_pred_tuned)}',end='\\n\\n\\n')"
   ]
  },
  {
   "cell_type": "code",
   "execution_count": 85,
   "id": "72d3ec34",
   "metadata": {},
   "outputs": [
    {
     "data": {
      "image/png": "[encoded data removed]",
      "text/plain": [
       "<Figure size 640x480 with 1 Axes>"
      ]
     },
     "metadata": {},
     "output_type": "display_data"
    }
   ],
   "source": [
    "from sklearn.metrics import roc_curve\n",
    "fpr, tpr, thresholds = roc_curve(y_test, y_pred_tuned)\n",
    "fpr1, tpr1, thresholds1 = roc_curve(y_test, y_pred)\n",
    "\n",
    "plt.plot([0,1],[0,1],'r--')\n",
    "plt.xlim([0.0,1.0])\n",
    "plt.ylim([0.0,1.0])\n",
    "\n",
    "plt.plot(fpr1,tpr1,label='Base Model ROC(area=%0.2f)'%(roc_auc_score(y_test,y_pred)))\n",
    "plt.plot(fpr,tpr,label='Tuned Model ROC(area=%0.2f)'%(roc_auc_score(y_test,y_pred_tuned)))\n",
    "\n",
    "plt.xlabel('1-Specificity(False Positive Rate)')\n",
    "plt.ylabel('Sensitivity(True Positive Rate)')\n",
    "plt.title('Receiver Operating Characteristic')\n",
    "plt.legend(loc='lower right')\n",
    "plt.show()\n"
   ]
  },
  {
   "cell_type": "code",
   "execution_count": null,
   "id": "8ac1cbc2",
   "metadata": {},
   "outputs": [],
   "source": []
  }
 ],
 "metadata": {
  "kernelspec": {
   "display_name": "Python 3 (ipykernel)",
   "language": "python",
   "name": "python3"
  },
  "language_info": {
   "codemirror_mode": {
    "name": "ipython",
    "version": 3
   },
   "file_extension": ".py",
   "mimetype": "text/x-python",
   "name": "python",
   "nbconvert_exporter": "python",
   "pygments_lexer": "ipython3",
   "version": "3.9.13"
  }
 },
 "nbformat": 4,
 "nbformat_minor": 5
}
