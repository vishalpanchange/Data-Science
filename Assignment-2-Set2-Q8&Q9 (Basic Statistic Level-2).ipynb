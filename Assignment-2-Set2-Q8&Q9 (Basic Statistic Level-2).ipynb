{
 "cells": [
  {
   "cell_type": "code",
   "execution_count": 1,
   "id": "18ced73f",
   "metadata": {},
   "outputs": [],
   "source": [
    "import math\n",
    "\n",
    "def sample_size(margin_error, confidence_level):\n",
    "    z_score = {\n",
    "        0.90: 1.645,\n",
    "        0.95: 1.96,\n",
    "        0.98: 2.33,\n",
    "        0.99: 2.58\n",
    "    }\n",
    "    p = 0.5  # assuming the largest possible sample size for a given margin of error\n",
    "    e = margin_error\n",
    "    z = z_score[confidence_level]\n",
    "    n = math.ceil((z ** 2 * p * (1 - p)) / (e ** 2))\n",
    "    return n"
   ]
  },
  {
   "cell_type": "code",
   "execution_count": 2,
   "id": "67bfe071",
   "metadata": {},
   "outputs": [
    {
     "name": "stdout",
     "output_type": "stream",
     "text": [
      "601\n",
      "849\n"
     ]
    }
   ],
   "source": [
    "# Question 8\n",
    "n = sample_size(0.04, 0.95)\n",
    "print(n)  \n",
    "\n",
    "# Question 9\n",
    "n = sample_size(0.04, 0.98)\n",
    "print(n)  "
   ]
  },
  {
   "cell_type": "code",
   "execution_count": null,
   "id": "ec699810",
   "metadata": {},
   "outputs": [],
   "source": []
  }
 ],
 "metadata": {
  "kernelspec": {
   "display_name": "Python 3 (ipykernel)",
   "language": "python",
   "name": "python3"
  },
  "language_info": {
   "codemirror_mode": {
    "name": "ipython",
    "version": 3
   },
   "file_extension": ".py",
   "mimetype": "text/x-python",
   "name": "python",
   "nbconvert_exporter": "python",
   "pygments_lexer": "ipython3",
   "version": "3.9.13"
  }
 },
 "nbformat": 4,
 "nbformat_minor": 5
}
