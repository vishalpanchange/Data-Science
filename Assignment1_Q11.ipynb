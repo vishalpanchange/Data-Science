{
 "cells": [
  {
   "cell_type": "code",
   "execution_count": 6,
   "id": "20012dc9",
   "metadata": {},
   "outputs": [],
   "source": [
    "import pandas as pd\n",
    "import numpy as np\n",
    "import seaborn as sns\n",
    "from scipy import stats\n",
    "from scipy.stats import norm"
   ]
  },
  {
   "cell_type": "markdown",
   "id": "66f5d8ae",
   "metadata": {},
   "source": [
    "Average height 0f the male adult in mexico at 94% confidence interval"
   ]
  },
  {
   "cell_type": "code",
   "execution_count": 15,
   "id": "ff15fba8",
   "metadata": {},
   "outputs": [
    {
     "data": {
      "text/plain": [
       "(199.98589404793887, 200.01410595206113)"
      ]
     },
     "execution_count": 15,
     "metadata": {},
     "output_type": "execute_result"
    }
   ],
   "source": [
    "stats.norm.interval(0.94,loc =200,scale =(30/2000*0.5))"
   ]
  },
  {
   "cell_type": "markdown",
   "id": "053f6de3",
   "metadata": {},
   "source": [
    "Average height 0f the male adult in mexico at 96% confidence interval"
   ]
  },
  {
   "cell_type": "code",
   "execution_count": 19,
   "id": "d023e23c",
   "metadata": {},
   "outputs": [
    {
     "data": {
      "text/plain": [
       "(199.98459688317027, 200.01540311682973)"
      ]
     },
     "execution_count": 19,
     "metadata": {},
     "output_type": "execute_result"
    }
   ],
   "source": [
    "stats.norm.interval(0.96,loc =200,scale =(30/2000*0.5))"
   ]
  },
  {
   "cell_type": "markdown",
   "id": "2d34c34c",
   "metadata": {},
   "source": [
    "Average height 0f the male adult in mexico at 98% confidence interval"
   ]
  },
  {
   "cell_type": "code",
   "execution_count": 20,
   "id": "04c42d89",
   "metadata": {},
   "outputs": [
    {
     "data": {
      "text/plain": [
       "(199.9825523909447, 200.0174476090553)"
      ]
     },
     "execution_count": 20,
     "metadata": {},
     "output_type": "execute_result"
    }
   ],
   "source": [
    "stats.norm.interval(0.98,loc =200,scale =(30/2000*0.5))"
   ]
  }
 ],
 "metadata": {
  "kernelspec": {
   "display_name": "Python 3 (ipykernel)",
   "language": "python",
   "name": "python3"
  },
  "language_info": {
   "codemirror_mode": {
    "name": "ipython",
    "version": 3
   },
   "file_extension": ".py",
   "mimetype": "text/x-python",
   "name": "python",
   "nbconvert_exporter": "python",
   "pygments_lexer": "ipython3",
   "version": "3.9.13"
  }
 },
 "nbformat": 4,
 "nbformat_minor": 5
}
