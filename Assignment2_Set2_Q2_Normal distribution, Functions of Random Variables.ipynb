{
 "cells": [
  {
   "cell_type": "code",
   "execution_count": 1,
   "id": "543ec84d",
   "metadata": {},
   "outputs": [],
   "source": [
    "import pandas as pd\n",
    "import numpy as np \n",
    "from scipy import  stats\n",
    "from scipy.stats import norm "
   ]
  },
  {
   "cell_type": "markdown",
   "id": "3686df24",
   "metadata": {},
   "source": [
    "### Find Z-Scores at X=50; Z = (X - µ) / σ "
   ]
  },
  {
   "cell_type": "code",
   "execution_count": 8,
   "id": "9e8d8bb0",
   "metadata": {},
   "outputs": [
    {
     "data": {
      "text/plain": [
       "0.15865525393145707"
      ]
     },
     "execution_count": 8,
     "metadata": {},
     "output_type": "execute_result"
    }
   ],
   "source": [
    "#clerical employees age at P(x) > 44\n",
    "z1 = 1-stats.norm.cdf(44,loc = 38,scale = 6)\n",
    "z1"
   ]
  },
  {
   "cell_type": "code",
   "execution_count": 9,
   "id": "a579735a",
   "metadata": {},
   "outputs": [
    {
     "data": {
      "text/plain": [
       "0.3413447460685429"
      ]
     },
     "execution_count": 9,
     "metadata": {},
     "output_type": "execute_result"
    }
   ],
   "source": [
    "#clerical employees age between P(x) = 38 and P(x) = 44\n",
    "stats.norm.cdf(44,loc = 38,scale = 6) - stats.norm.cdf(38,loc = 38,scale = 6)"
   ]
  },
  {
   "cell_type": "markdown",
   "id": "f0bafbce",
   "metadata": {},
   "source": [
    "### P(X<30); Employees under 30 yrs of age\n"
   ]
  },
  {
   "cell_type": "code",
   "execution_count": 11,
   "id": "7bf9d61a",
   "metadata": {},
   "outputs": [
    {
     "data": {
      "text/plain": [
       "0.09121121972586788"
      ]
     },
     "execution_count": 11,
     "metadata": {},
     "output_type": "execute_result"
    }
   ],
   "source": [
    "z2 = stats.norm.cdf(30,38,6)\n",
    "z2"
   ]
  },
  {
   "cell_type": "markdown",
   "id": "2baadc67",
   "metadata": {},
   "source": [
    "### No. of employees attending training program from 400 nos. is N*P(X<30)"
   ]
  },
  {
   "cell_type": "code",
   "execution_count": 13,
   "id": "58af1e12",
   "metadata": {},
   "outputs": [
    {
     "data": {
      "text/plain": [
       "36.484487890347154"
      ]
     },
     "execution_count": 13,
     "metadata": {},
     "output_type": "execute_result"
    }
   ],
   "source": [
    "z2*400"
   ]
  },
  {
   "cell_type": "code",
   "execution_count": null,
   "id": "ede80d5d",
   "metadata": {},
   "outputs": [],
   "source": []
  }
 ],
 "metadata": {
  "kernelspec": {
   "display_name": "Python 3 (ipykernel)",
   "language": "python",
   "name": "python3"
  },
  "language_info": {
   "codemirror_mode": {
    "name": "ipython",
    "version": 3
   },
   "file_extension": ".py",
   "mimetype": "text/x-python",
   "name": "python",
   "nbconvert_exporter": "python",
   "pygments_lexer": "ipython3",
   "version": "3.9.13"
  }
 },
 "nbformat": 4,
 "nbformat_minor": 5
}
